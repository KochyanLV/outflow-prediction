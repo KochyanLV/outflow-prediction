{
 "cells": [
  {
   "cell_type": "markdown",
   "id": "e027ef6e",
   "metadata": {
    "id": "lzLqEeZKEEYz",
    "papermill": {
     "duration": 0.026853,
     "end_time": "2021-12-20T13:23:14.292521",
     "exception": false,
     "start_time": "2021-12-20T13:23:14.265668",
     "status": "completed"
    },
    "tags": []
   },
   "source": [
    "## Исследование"
   ]
  },
  {
   "cell_type": "code",
   "execution_count": 1,
   "id": "a721ed00",
   "metadata": {
    "execution": {
     "iopub.execute_input": "2021-12-20T13:23:14.355606Z",
     "iopub.status.busy": "2021-12-20T13:23:14.353802Z",
     "iopub.status.idle": "2021-12-20T13:23:14.359794Z",
     "shell.execute_reply": "2021-12-20T13:23:14.359037Z"
    },
    "papermill": {
     "duration": 0.040647,
     "end_time": "2021-12-20T13:23:14.359984",
     "exception": false,
     "start_time": "2021-12-20T13:23:14.319337",
     "status": "completed"
    },
    "tags": []
   },
   "outputs": [],
   "source": [
    "import pandas as pd\n",
    "import numpy as np\n",
    "from matplotlib import pyplot as plt"
   ]
  },
  {
   "cell_type": "code",
   "execution_count": 2,
   "id": "7e01f513",
   "metadata": {
    "execution": {
     "iopub.execute_input": "2021-12-20T13:23:14.415707Z",
     "iopub.status.busy": "2021-12-20T13:23:14.414707Z",
     "iopub.status.idle": "2021-12-20T13:23:14.496882Z",
     "shell.execute_reply": "2021-12-20T13:23:14.497377Z"
    },
    "id": "pw-Brue9EEY3",
    "papermill": {
     "duration": 0.111616,
     "end_time": "2021-12-20T13:23:14.497602",
     "exception": false,
     "start_time": "2021-12-20T13:23:14.385986",
     "status": "completed"
    },
    "tags": []
   },
   "outputs": [
    {
     "name": "stdout",
     "output_type": "stream",
     "text": [
      "/kaggle/input/advanced-dls-spring-2021/submission.csv\n",
      "/kaggle/input/advanced-dls-spring-2021/train.csv\n",
      "/kaggle/input/advanced-dls-spring-2021/test.csv\n"
     ]
    },
    {
     "data": {
      "text/html": [
       "<div>\n",
       "<style scoped>\n",
       "    .dataframe tbody tr th:only-of-type {\n",
       "        vertical-align: middle;\n",
       "    }\n",
       "\n",
       "    .dataframe tbody tr th {\n",
       "        vertical-align: top;\n",
       "    }\n",
       "\n",
       "    .dataframe thead th {\n",
       "        text-align: right;\n",
       "    }\n",
       "</style>\n",
       "<table border=\"1\" class=\"dataframe\">\n",
       "  <thead>\n",
       "    <tr style=\"text-align: right;\">\n",
       "      <th></th>\n",
       "      <th>ClientPeriod</th>\n",
       "      <th>MonthlySpending</th>\n",
       "      <th>TotalSpent</th>\n",
       "      <th>Sex</th>\n",
       "      <th>IsSeniorCitizen</th>\n",
       "      <th>HasPartner</th>\n",
       "      <th>HasChild</th>\n",
       "      <th>HasPhoneService</th>\n",
       "      <th>HasMultiplePhoneNumbers</th>\n",
       "      <th>HasInternetService</th>\n",
       "      <th>HasOnlineSecurityService</th>\n",
       "      <th>HasOnlineBackup</th>\n",
       "      <th>HasDeviceProtection</th>\n",
       "      <th>HasTechSupportAccess</th>\n",
       "      <th>HasOnlineTV</th>\n",
       "      <th>HasMovieSubscription</th>\n",
       "      <th>HasContractPhone</th>\n",
       "      <th>IsBillingPaperless</th>\n",
       "      <th>PaymentMethod</th>\n",
       "      <th>Churn</th>\n",
       "    </tr>\n",
       "  </thead>\n",
       "  <tbody>\n",
       "    <tr>\n",
       "      <th>0</th>\n",
       "      <td>55</td>\n",
       "      <td>19.50</td>\n",
       "      <td>1026.35</td>\n",
       "      <td>Male</td>\n",
       "      <td>0</td>\n",
       "      <td>Yes</td>\n",
       "      <td>Yes</td>\n",
       "      <td>Yes</td>\n",
       "      <td>No</td>\n",
       "      <td>No</td>\n",
       "      <td>No internet service</td>\n",
       "      <td>No internet service</td>\n",
       "      <td>No internet service</td>\n",
       "      <td>No internet service</td>\n",
       "      <td>No internet service</td>\n",
       "      <td>No internet service</td>\n",
       "      <td>One year</td>\n",
       "      <td>No</td>\n",
       "      <td>Mailed check</td>\n",
       "      <td>0</td>\n",
       "    </tr>\n",
       "    <tr>\n",
       "      <th>1</th>\n",
       "      <td>72</td>\n",
       "      <td>25.85</td>\n",
       "      <td>1872.2</td>\n",
       "      <td>Male</td>\n",
       "      <td>0</td>\n",
       "      <td>Yes</td>\n",
       "      <td>No</td>\n",
       "      <td>Yes</td>\n",
       "      <td>Yes</td>\n",
       "      <td>No</td>\n",
       "      <td>No internet service</td>\n",
       "      <td>No internet service</td>\n",
       "      <td>No internet service</td>\n",
       "      <td>No internet service</td>\n",
       "      <td>No internet service</td>\n",
       "      <td>No internet service</td>\n",
       "      <td>Two year</td>\n",
       "      <td>No</td>\n",
       "      <td>Credit card (automatic)</td>\n",
       "      <td>0</td>\n",
       "    </tr>\n",
       "    <tr>\n",
       "      <th>2</th>\n",
       "      <td>1</td>\n",
       "      <td>75.90</td>\n",
       "      <td>75.9</td>\n",
       "      <td>Male</td>\n",
       "      <td>0</td>\n",
       "      <td>No</td>\n",
       "      <td>No</td>\n",
       "      <td>Yes</td>\n",
       "      <td>No</td>\n",
       "      <td>Fiber optic</td>\n",
       "      <td>No</td>\n",
       "      <td>No</td>\n",
       "      <td>No</td>\n",
       "      <td>Yes</td>\n",
       "      <td>No</td>\n",
       "      <td>No</td>\n",
       "      <td>Month-to-month</td>\n",
       "      <td>Yes</td>\n",
       "      <td>Electronic check</td>\n",
       "      <td>1</td>\n",
       "    </tr>\n",
       "    <tr>\n",
       "      <th>3</th>\n",
       "      <td>32</td>\n",
       "      <td>79.30</td>\n",
       "      <td>2570</td>\n",
       "      <td>Female</td>\n",
       "      <td>1</td>\n",
       "      <td>Yes</td>\n",
       "      <td>No</td>\n",
       "      <td>Yes</td>\n",
       "      <td>Yes</td>\n",
       "      <td>Fiber optic</td>\n",
       "      <td>No</td>\n",
       "      <td>No</td>\n",
       "      <td>Yes</td>\n",
       "      <td>No</td>\n",
       "      <td>No</td>\n",
       "      <td>No</td>\n",
       "      <td>Month-to-month</td>\n",
       "      <td>No</td>\n",
       "      <td>Mailed check</td>\n",
       "      <td>0</td>\n",
       "    </tr>\n",
       "    <tr>\n",
       "      <th>4</th>\n",
       "      <td>60</td>\n",
       "      <td>115.25</td>\n",
       "      <td>6758.45</td>\n",
       "      <td>Female</td>\n",
       "      <td>0</td>\n",
       "      <td>Yes</td>\n",
       "      <td>Yes</td>\n",
       "      <td>Yes</td>\n",
       "      <td>Yes</td>\n",
       "      <td>Fiber optic</td>\n",
       "      <td>Yes</td>\n",
       "      <td>Yes</td>\n",
       "      <td>Yes</td>\n",
       "      <td>Yes</td>\n",
       "      <td>Yes</td>\n",
       "      <td>Yes</td>\n",
       "      <td>Two year</td>\n",
       "      <td>No</td>\n",
       "      <td>Credit card (automatic)</td>\n",
       "      <td>0</td>\n",
       "    </tr>\n",
       "    <tr>\n",
       "      <th>5</th>\n",
       "      <td>25</td>\n",
       "      <td>19.80</td>\n",
       "      <td>475.2</td>\n",
       "      <td>Female</td>\n",
       "      <td>0</td>\n",
       "      <td>No</td>\n",
       "      <td>No</td>\n",
       "      <td>Yes</td>\n",
       "      <td>No</td>\n",
       "      <td>No</td>\n",
       "      <td>No internet service</td>\n",
       "      <td>No internet service</td>\n",
       "      <td>No internet service</td>\n",
       "      <td>No internet service</td>\n",
       "      <td>No internet service</td>\n",
       "      <td>No internet service</td>\n",
       "      <td>Two year</td>\n",
       "      <td>No</td>\n",
       "      <td>Credit card (automatic)</td>\n",
       "      <td>0</td>\n",
       "    </tr>\n",
       "    <tr>\n",
       "      <th>6</th>\n",
       "      <td>27</td>\n",
       "      <td>90.15</td>\n",
       "      <td>2423.4</td>\n",
       "      <td>Female</td>\n",
       "      <td>0</td>\n",
       "      <td>Yes</td>\n",
       "      <td>No</td>\n",
       "      <td>Yes</td>\n",
       "      <td>Yes</td>\n",
       "      <td>Fiber optic</td>\n",
       "      <td>No</td>\n",
       "      <td>No</td>\n",
       "      <td>Yes</td>\n",
       "      <td>No</td>\n",
       "      <td>No</td>\n",
       "      <td>Yes</td>\n",
       "      <td>Month-to-month</td>\n",
       "      <td>No</td>\n",
       "      <td>Bank transfer (automatic)</td>\n",
       "      <td>0</td>\n",
       "    </tr>\n",
       "    <tr>\n",
       "      <th>7</th>\n",
       "      <td>1</td>\n",
       "      <td>45.70</td>\n",
       "      <td>45.7</td>\n",
       "      <td>Male</td>\n",
       "      <td>0</td>\n",
       "      <td>No</td>\n",
       "      <td>No</td>\n",
       "      <td>Yes</td>\n",
       "      <td>No</td>\n",
       "      <td>DSL</td>\n",
       "      <td>No</td>\n",
       "      <td>No</td>\n",
       "      <td>No</td>\n",
       "      <td>No</td>\n",
       "      <td>No</td>\n",
       "      <td>No</td>\n",
       "      <td>Month-to-month</td>\n",
       "      <td>Yes</td>\n",
       "      <td>Mailed check</td>\n",
       "      <td>1</td>\n",
       "    </tr>\n",
       "    <tr>\n",
       "      <th>8</th>\n",
       "      <td>50</td>\n",
       "      <td>105.95</td>\n",
       "      <td>5341.8</td>\n",
       "      <td>Male</td>\n",
       "      <td>0</td>\n",
       "      <td>Yes</td>\n",
       "      <td>Yes</td>\n",
       "      <td>Yes</td>\n",
       "      <td>Yes</td>\n",
       "      <td>Fiber optic</td>\n",
       "      <td>Yes</td>\n",
       "      <td>No</td>\n",
       "      <td>Yes</td>\n",
       "      <td>No</td>\n",
       "      <td>Yes</td>\n",
       "      <td>Yes</td>\n",
       "      <td>Month-to-month</td>\n",
       "      <td>No</td>\n",
       "      <td>Credit card (automatic)</td>\n",
       "      <td>1</td>\n",
       "    </tr>\n",
       "    <tr>\n",
       "      <th>9</th>\n",
       "      <td>72</td>\n",
       "      <td>61.20</td>\n",
       "      <td>4390.25</td>\n",
       "      <td>Male</td>\n",
       "      <td>0</td>\n",
       "      <td>No</td>\n",
       "      <td>No</td>\n",
       "      <td>No</td>\n",
       "      <td>No phone service</td>\n",
       "      <td>DSL</td>\n",
       "      <td>Yes</td>\n",
       "      <td>No</td>\n",
       "      <td>Yes</td>\n",
       "      <td>Yes</td>\n",
       "      <td>Yes</td>\n",
       "      <td>Yes</td>\n",
       "      <td>Two year</td>\n",
       "      <td>Yes</td>\n",
       "      <td>Credit card (automatic)</td>\n",
       "      <td>0</td>\n",
       "    </tr>\n",
       "  </tbody>\n",
       "</table>\n",
       "</div>"
      ],
      "text/plain": [
       "   ClientPeriod  MonthlySpending TotalSpent     Sex  IsSeniorCitizen  \\\n",
       "0            55            19.50    1026.35    Male                0   \n",
       "1            72            25.85     1872.2    Male                0   \n",
       "2             1            75.90       75.9    Male                0   \n",
       "3            32            79.30       2570  Female                1   \n",
       "4            60           115.25    6758.45  Female                0   \n",
       "5            25            19.80      475.2  Female                0   \n",
       "6            27            90.15     2423.4  Female                0   \n",
       "7             1            45.70       45.7    Male                0   \n",
       "8            50           105.95     5341.8    Male                0   \n",
       "9            72            61.20    4390.25    Male                0   \n",
       "\n",
       "  HasPartner HasChild HasPhoneService HasMultiplePhoneNumbers  \\\n",
       "0        Yes      Yes             Yes                      No   \n",
       "1        Yes       No             Yes                     Yes   \n",
       "2         No       No             Yes                      No   \n",
       "3        Yes       No             Yes                     Yes   \n",
       "4        Yes      Yes             Yes                     Yes   \n",
       "5         No       No             Yes                      No   \n",
       "6        Yes       No             Yes                     Yes   \n",
       "7         No       No             Yes                      No   \n",
       "8        Yes      Yes             Yes                     Yes   \n",
       "9         No       No              No        No phone service   \n",
       "\n",
       "  HasInternetService HasOnlineSecurityService      HasOnlineBackup  \\\n",
       "0                 No      No internet service  No internet service   \n",
       "1                 No      No internet service  No internet service   \n",
       "2        Fiber optic                       No                   No   \n",
       "3        Fiber optic                       No                   No   \n",
       "4        Fiber optic                      Yes                  Yes   \n",
       "5                 No      No internet service  No internet service   \n",
       "6        Fiber optic                       No                   No   \n",
       "7                DSL                       No                   No   \n",
       "8        Fiber optic                      Yes                   No   \n",
       "9                DSL                      Yes                   No   \n",
       "\n",
       "   HasDeviceProtection HasTechSupportAccess          HasOnlineTV  \\\n",
       "0  No internet service  No internet service  No internet service   \n",
       "1  No internet service  No internet service  No internet service   \n",
       "2                   No                  Yes                   No   \n",
       "3                  Yes                   No                   No   \n",
       "4                  Yes                  Yes                  Yes   \n",
       "5  No internet service  No internet service  No internet service   \n",
       "6                  Yes                   No                   No   \n",
       "7                   No                   No                   No   \n",
       "8                  Yes                   No                  Yes   \n",
       "9                  Yes                  Yes                  Yes   \n",
       "\n",
       "  HasMovieSubscription HasContractPhone IsBillingPaperless  \\\n",
       "0  No internet service         One year                 No   \n",
       "1  No internet service         Two year                 No   \n",
       "2                   No   Month-to-month                Yes   \n",
       "3                   No   Month-to-month                 No   \n",
       "4                  Yes         Two year                 No   \n",
       "5  No internet service         Two year                 No   \n",
       "6                  Yes   Month-to-month                 No   \n",
       "7                   No   Month-to-month                Yes   \n",
       "8                  Yes   Month-to-month                 No   \n",
       "9                  Yes         Two year                Yes   \n",
       "\n",
       "               PaymentMethod  Churn  \n",
       "0               Mailed check      0  \n",
       "1    Credit card (automatic)      0  \n",
       "2           Electronic check      1  \n",
       "3               Mailed check      0  \n",
       "4    Credit card (automatic)      0  \n",
       "5    Credit card (automatic)      0  \n",
       "6  Bank transfer (automatic)      0  \n",
       "7               Mailed check      1  \n",
       "8    Credit card (automatic)      1  \n",
       "9    Credit card (automatic)      0  "
      ]
     },
     "execution_count": 2,
     "metadata": {},
     "output_type": "execute_result"
    }
   ],
   "source": [
    "import os\n",
    "for dirname, _, filenames in os.walk('/kaggle/input'):\n",
    "    for filename in filenames:\n",
    "        print(os.path.join(dirname, filename))\n",
    "        \n",
    "\n",
    "data = pd.read_csv('../input/advanced-dls-spring-2021/train.csv')\n",
    "data.head(10)"
   ]
  },
  {
   "cell_type": "code",
   "execution_count": 3,
   "id": "b94bac7f",
   "metadata": {
    "execution": {
     "iopub.execute_input": "2021-12-20T13:23:14.565119Z",
     "iopub.status.busy": "2021-12-20T13:23:14.564055Z",
     "iopub.status.idle": "2021-12-20T13:23:14.568201Z",
     "shell.execute_reply": "2021-12-20T13:23:14.568872Z"
    },
    "papermill": {
     "duration": 0.044319,
     "end_time": "2021-12-20T13:23:14.569093",
     "exception": false,
     "start_time": "2021-12-20T13:23:14.524774",
     "status": "completed"
    },
    "tags": []
   },
   "outputs": [],
   "source": [
    "data[\"TotalSpent\"] = pd.to_numeric(data[\"TotalSpent\"],errors ='coerce')"
   ]
  },
  {
   "cell_type": "code",
   "execution_count": 4,
   "id": "71cee4bb",
   "metadata": {
    "execution": {
     "iopub.execute_input": "2021-12-20T13:23:14.629014Z",
     "iopub.status.busy": "2021-12-20T13:23:14.627973Z",
     "iopub.status.idle": "2021-12-20T13:23:14.674069Z",
     "shell.execute_reply": "2021-12-20T13:23:14.674599Z"
    },
    "papermill": {
     "duration": 0.078282,
     "end_time": "2021-12-20T13:23:14.674805",
     "exception": false,
     "start_time": "2021-12-20T13:23:14.596523",
     "status": "completed"
    },
    "tags": []
   },
   "outputs": [
    {
     "data": {
      "text/html": [
       "<div>\n",
       "<style scoped>\n",
       "    .dataframe tbody tr th:only-of-type {\n",
       "        vertical-align: middle;\n",
       "    }\n",
       "\n",
       "    .dataframe tbody tr th {\n",
       "        vertical-align: top;\n",
       "    }\n",
       "\n",
       "    .dataframe thead th {\n",
       "        text-align: right;\n",
       "    }\n",
       "</style>\n",
       "<table border=\"1\" class=\"dataframe\">\n",
       "  <thead>\n",
       "    <tr style=\"text-align: right;\">\n",
       "      <th></th>\n",
       "      <th>ClientPeriod</th>\n",
       "      <th>MonthlySpending</th>\n",
       "      <th>TotalSpent</th>\n",
       "      <th>Sex</th>\n",
       "      <th>IsSeniorCitizen</th>\n",
       "      <th>HasPartner</th>\n",
       "      <th>HasChild</th>\n",
       "      <th>HasPhoneService</th>\n",
       "      <th>HasMultiplePhoneNumbers</th>\n",
       "      <th>HasInternetService</th>\n",
       "      <th>HasOnlineSecurityService</th>\n",
       "      <th>HasOnlineBackup</th>\n",
       "      <th>HasDeviceProtection</th>\n",
       "      <th>HasTechSupportAccess</th>\n",
       "      <th>HasOnlineTV</th>\n",
       "      <th>HasMovieSubscription</th>\n",
       "      <th>HasContractPhone</th>\n",
       "      <th>IsBillingPaperless</th>\n",
       "      <th>PaymentMethod</th>\n",
       "      <th>Churn</th>\n",
       "    </tr>\n",
       "  </thead>\n",
       "  <tbody>\n",
       "    <tr>\n",
       "      <th>0</th>\n",
       "      <td>False</td>\n",
       "      <td>False</td>\n",
       "      <td>False</td>\n",
       "      <td>False</td>\n",
       "      <td>False</td>\n",
       "      <td>False</td>\n",
       "      <td>False</td>\n",
       "      <td>False</td>\n",
       "      <td>False</td>\n",
       "      <td>False</td>\n",
       "      <td>False</td>\n",
       "      <td>False</td>\n",
       "      <td>False</td>\n",
       "      <td>False</td>\n",
       "      <td>False</td>\n",
       "      <td>False</td>\n",
       "      <td>False</td>\n",
       "      <td>False</td>\n",
       "      <td>False</td>\n",
       "      <td>False</td>\n",
       "    </tr>\n",
       "    <tr>\n",
       "      <th>1</th>\n",
       "      <td>False</td>\n",
       "      <td>False</td>\n",
       "      <td>False</td>\n",
       "      <td>False</td>\n",
       "      <td>False</td>\n",
       "      <td>False</td>\n",
       "      <td>False</td>\n",
       "      <td>False</td>\n",
       "      <td>False</td>\n",
       "      <td>False</td>\n",
       "      <td>False</td>\n",
       "      <td>False</td>\n",
       "      <td>False</td>\n",
       "      <td>False</td>\n",
       "      <td>False</td>\n",
       "      <td>False</td>\n",
       "      <td>False</td>\n",
       "      <td>False</td>\n",
       "      <td>False</td>\n",
       "      <td>False</td>\n",
       "    </tr>\n",
       "    <tr>\n",
       "      <th>2</th>\n",
       "      <td>False</td>\n",
       "      <td>False</td>\n",
       "      <td>False</td>\n",
       "      <td>False</td>\n",
       "      <td>False</td>\n",
       "      <td>False</td>\n",
       "      <td>False</td>\n",
       "      <td>False</td>\n",
       "      <td>False</td>\n",
       "      <td>False</td>\n",
       "      <td>False</td>\n",
       "      <td>False</td>\n",
       "      <td>False</td>\n",
       "      <td>False</td>\n",
       "      <td>False</td>\n",
       "      <td>False</td>\n",
       "      <td>False</td>\n",
       "      <td>False</td>\n",
       "      <td>False</td>\n",
       "      <td>False</td>\n",
       "    </tr>\n",
       "    <tr>\n",
       "      <th>3</th>\n",
       "      <td>False</td>\n",
       "      <td>False</td>\n",
       "      <td>False</td>\n",
       "      <td>False</td>\n",
       "      <td>False</td>\n",
       "      <td>False</td>\n",
       "      <td>False</td>\n",
       "      <td>False</td>\n",
       "      <td>False</td>\n",
       "      <td>False</td>\n",
       "      <td>False</td>\n",
       "      <td>False</td>\n",
       "      <td>False</td>\n",
       "      <td>False</td>\n",
       "      <td>False</td>\n",
       "      <td>False</td>\n",
       "      <td>False</td>\n",
       "      <td>False</td>\n",
       "      <td>False</td>\n",
       "      <td>False</td>\n",
       "    </tr>\n",
       "    <tr>\n",
       "      <th>4</th>\n",
       "      <td>False</td>\n",
       "      <td>False</td>\n",
       "      <td>False</td>\n",
       "      <td>False</td>\n",
       "      <td>False</td>\n",
       "      <td>False</td>\n",
       "      <td>False</td>\n",
       "      <td>False</td>\n",
       "      <td>False</td>\n",
       "      <td>False</td>\n",
       "      <td>False</td>\n",
       "      <td>False</td>\n",
       "      <td>False</td>\n",
       "      <td>False</td>\n",
       "      <td>False</td>\n",
       "      <td>False</td>\n",
       "      <td>False</td>\n",
       "      <td>False</td>\n",
       "      <td>False</td>\n",
       "      <td>False</td>\n",
       "    </tr>\n",
       "    <tr>\n",
       "      <th>...</th>\n",
       "      <td>...</td>\n",
       "      <td>...</td>\n",
       "      <td>...</td>\n",
       "      <td>...</td>\n",
       "      <td>...</td>\n",
       "      <td>...</td>\n",
       "      <td>...</td>\n",
       "      <td>...</td>\n",
       "      <td>...</td>\n",
       "      <td>...</td>\n",
       "      <td>...</td>\n",
       "      <td>...</td>\n",
       "      <td>...</td>\n",
       "      <td>...</td>\n",
       "      <td>...</td>\n",
       "      <td>...</td>\n",
       "      <td>...</td>\n",
       "      <td>...</td>\n",
       "      <td>...</td>\n",
       "      <td>...</td>\n",
       "    </tr>\n",
       "    <tr>\n",
       "      <th>5277</th>\n",
       "      <td>False</td>\n",
       "      <td>False</td>\n",
       "      <td>False</td>\n",
       "      <td>False</td>\n",
       "      <td>False</td>\n",
       "      <td>False</td>\n",
       "      <td>False</td>\n",
       "      <td>False</td>\n",
       "      <td>False</td>\n",
       "      <td>False</td>\n",
       "      <td>False</td>\n",
       "      <td>False</td>\n",
       "      <td>False</td>\n",
       "      <td>False</td>\n",
       "      <td>False</td>\n",
       "      <td>False</td>\n",
       "      <td>False</td>\n",
       "      <td>False</td>\n",
       "      <td>False</td>\n",
       "      <td>False</td>\n",
       "    </tr>\n",
       "    <tr>\n",
       "      <th>5278</th>\n",
       "      <td>False</td>\n",
       "      <td>False</td>\n",
       "      <td>False</td>\n",
       "      <td>False</td>\n",
       "      <td>False</td>\n",
       "      <td>False</td>\n",
       "      <td>False</td>\n",
       "      <td>False</td>\n",
       "      <td>False</td>\n",
       "      <td>False</td>\n",
       "      <td>False</td>\n",
       "      <td>False</td>\n",
       "      <td>False</td>\n",
       "      <td>False</td>\n",
       "      <td>False</td>\n",
       "      <td>False</td>\n",
       "      <td>False</td>\n",
       "      <td>False</td>\n",
       "      <td>False</td>\n",
       "      <td>False</td>\n",
       "    </tr>\n",
       "    <tr>\n",
       "      <th>5279</th>\n",
       "      <td>False</td>\n",
       "      <td>False</td>\n",
       "      <td>False</td>\n",
       "      <td>False</td>\n",
       "      <td>False</td>\n",
       "      <td>False</td>\n",
       "      <td>False</td>\n",
       "      <td>False</td>\n",
       "      <td>False</td>\n",
       "      <td>False</td>\n",
       "      <td>False</td>\n",
       "      <td>False</td>\n",
       "      <td>False</td>\n",
       "      <td>False</td>\n",
       "      <td>False</td>\n",
       "      <td>False</td>\n",
       "      <td>False</td>\n",
       "      <td>False</td>\n",
       "      <td>False</td>\n",
       "      <td>False</td>\n",
       "    </tr>\n",
       "    <tr>\n",
       "      <th>5280</th>\n",
       "      <td>False</td>\n",
       "      <td>False</td>\n",
       "      <td>False</td>\n",
       "      <td>False</td>\n",
       "      <td>False</td>\n",
       "      <td>False</td>\n",
       "      <td>False</td>\n",
       "      <td>False</td>\n",
       "      <td>False</td>\n",
       "      <td>False</td>\n",
       "      <td>False</td>\n",
       "      <td>False</td>\n",
       "      <td>False</td>\n",
       "      <td>False</td>\n",
       "      <td>False</td>\n",
       "      <td>False</td>\n",
       "      <td>False</td>\n",
       "      <td>False</td>\n",
       "      <td>False</td>\n",
       "      <td>False</td>\n",
       "    </tr>\n",
       "    <tr>\n",
       "      <th>5281</th>\n",
       "      <td>False</td>\n",
       "      <td>False</td>\n",
       "      <td>False</td>\n",
       "      <td>False</td>\n",
       "      <td>False</td>\n",
       "      <td>False</td>\n",
       "      <td>False</td>\n",
       "      <td>False</td>\n",
       "      <td>False</td>\n",
       "      <td>False</td>\n",
       "      <td>False</td>\n",
       "      <td>False</td>\n",
       "      <td>False</td>\n",
       "      <td>False</td>\n",
       "      <td>False</td>\n",
       "      <td>False</td>\n",
       "      <td>False</td>\n",
       "      <td>False</td>\n",
       "      <td>False</td>\n",
       "      <td>False</td>\n",
       "    </tr>\n",
       "  </tbody>\n",
       "</table>\n",
       "<p>5282 rows × 20 columns</p>\n",
       "</div>"
      ],
      "text/plain": [
       "      ClientPeriod  MonthlySpending  TotalSpent    Sex  IsSeniorCitizen  \\\n",
       "0            False            False       False  False            False   \n",
       "1            False            False       False  False            False   \n",
       "2            False            False       False  False            False   \n",
       "3            False            False       False  False            False   \n",
       "4            False            False       False  False            False   \n",
       "...            ...              ...         ...    ...              ...   \n",
       "5277         False            False       False  False            False   \n",
       "5278         False            False       False  False            False   \n",
       "5279         False            False       False  False            False   \n",
       "5280         False            False       False  False            False   \n",
       "5281         False            False       False  False            False   \n",
       "\n",
       "      HasPartner  HasChild  HasPhoneService  HasMultiplePhoneNumbers  \\\n",
       "0          False     False            False                    False   \n",
       "1          False     False            False                    False   \n",
       "2          False     False            False                    False   \n",
       "3          False     False            False                    False   \n",
       "4          False     False            False                    False   \n",
       "...          ...       ...              ...                      ...   \n",
       "5277       False     False            False                    False   \n",
       "5278       False     False            False                    False   \n",
       "5279       False     False            False                    False   \n",
       "5280       False     False            False                    False   \n",
       "5281       False     False            False                    False   \n",
       "\n",
       "      HasInternetService  HasOnlineSecurityService  HasOnlineBackup  \\\n",
       "0                  False                     False            False   \n",
       "1                  False                     False            False   \n",
       "2                  False                     False            False   \n",
       "3                  False                     False            False   \n",
       "4                  False                     False            False   \n",
       "...                  ...                       ...              ...   \n",
       "5277               False                     False            False   \n",
       "5278               False                     False            False   \n",
       "5279               False                     False            False   \n",
       "5280               False                     False            False   \n",
       "5281               False                     False            False   \n",
       "\n",
       "      HasDeviceProtection  HasTechSupportAccess  HasOnlineTV  \\\n",
       "0                   False                 False        False   \n",
       "1                   False                 False        False   \n",
       "2                   False                 False        False   \n",
       "3                   False                 False        False   \n",
       "4                   False                 False        False   \n",
       "...                   ...                   ...          ...   \n",
       "5277                False                 False        False   \n",
       "5278                False                 False        False   \n",
       "5279                False                 False        False   \n",
       "5280                False                 False        False   \n",
       "5281                False                 False        False   \n",
       "\n",
       "      HasMovieSubscription  HasContractPhone  IsBillingPaperless  \\\n",
       "0                    False             False               False   \n",
       "1                    False             False               False   \n",
       "2                    False             False               False   \n",
       "3                    False             False               False   \n",
       "4                    False             False               False   \n",
       "...                    ...               ...                 ...   \n",
       "5277                 False             False               False   \n",
       "5278                 False             False               False   \n",
       "5279                 False             False               False   \n",
       "5280                 False             False               False   \n",
       "5281                 False             False               False   \n",
       "\n",
       "      PaymentMethod  Churn  \n",
       "0             False  False  \n",
       "1             False  False  \n",
       "2             False  False  \n",
       "3             False  False  \n",
       "4             False  False  \n",
       "...             ...    ...  \n",
       "5277          False  False  \n",
       "5278          False  False  \n",
       "5279          False  False  \n",
       "5280          False  False  \n",
       "5281          False  False  \n",
       "\n",
       "[5282 rows x 20 columns]"
      ]
     },
     "execution_count": 4,
     "metadata": {},
     "output_type": "execute_result"
    }
   ],
   "source": [
    "data.isna()"
   ]
  },
  {
   "cell_type": "code",
   "execution_count": 5,
   "id": "2ec82036",
   "metadata": {
    "execution": {
     "iopub.execute_input": "2021-12-20T13:23:14.746977Z",
     "iopub.status.busy": "2021-12-20T13:23:14.746274Z",
     "iopub.status.idle": "2021-12-20T13:23:14.754623Z",
     "shell.execute_reply": "2021-12-20T13:23:14.755286Z"
    },
    "papermill": {
     "duration": 0.051744,
     "end_time": "2021-12-20T13:23:14.755488",
     "exception": false,
     "start_time": "2021-12-20T13:23:14.703744",
     "status": "completed"
    },
    "tags": []
   },
   "outputs": [
    {
     "data": {
      "text/plain": [
       "ClientPeriod                0.000000\n",
       "MonthlySpending             0.000000\n",
       "TotalSpent                  0.001704\n",
       "Sex                         0.000000\n",
       "IsSeniorCitizen             0.000000\n",
       "HasPartner                  0.000000\n",
       "HasChild                    0.000000\n",
       "HasPhoneService             0.000000\n",
       "HasMultiplePhoneNumbers     0.000000\n",
       "HasInternetService          0.000000\n",
       "HasOnlineSecurityService    0.000000\n",
       "HasOnlineBackup             0.000000\n",
       "HasDeviceProtection         0.000000\n",
       "HasTechSupportAccess        0.000000\n",
       "HasOnlineTV                 0.000000\n",
       "HasMovieSubscription        0.000000\n",
       "HasContractPhone            0.000000\n",
       "IsBillingPaperless          0.000000\n",
       "PaymentMethod               0.000000\n",
       "Churn                       0.000000\n",
       "dtype: float64"
      ]
     },
     "execution_count": 5,
     "metadata": {},
     "output_type": "execute_result"
    }
   ],
   "source": [
    "data.isna().mean() # появились nan'ы в TotalSpent, избавимся от них"
   ]
  },
  {
   "cell_type": "code",
   "execution_count": 6,
   "id": "d24e49d6",
   "metadata": {
    "execution": {
     "iopub.execute_input": "2021-12-20T13:23:14.834607Z",
     "iopub.status.busy": "2021-12-20T13:23:14.829019Z",
     "iopub.status.idle": "2021-12-20T13:23:14.838337Z",
     "shell.execute_reply": "2021-12-20T13:23:14.837672Z"
    },
    "papermill": {
     "duration": 0.054917,
     "end_time": "2021-12-20T13:23:14.838518",
     "exception": false,
     "start_time": "2021-12-20T13:23:14.783601",
     "status": "completed"
    },
    "tags": []
   },
   "outputs": [
    {
     "data": {
      "text/plain": [
       "ClientPeriod                0.0\n",
       "MonthlySpending             0.0\n",
       "TotalSpent                  0.0\n",
       "Sex                         0.0\n",
       "IsSeniorCitizen             0.0\n",
       "HasPartner                  0.0\n",
       "HasChild                    0.0\n",
       "HasPhoneService             0.0\n",
       "HasMultiplePhoneNumbers     0.0\n",
       "HasInternetService          0.0\n",
       "HasOnlineSecurityService    0.0\n",
       "HasOnlineBackup             0.0\n",
       "HasDeviceProtection         0.0\n",
       "HasTechSupportAccess        0.0\n",
       "HasOnlineTV                 0.0\n",
       "HasMovieSubscription        0.0\n",
       "HasContractPhone            0.0\n",
       "IsBillingPaperless          0.0\n",
       "PaymentMethod               0.0\n",
       "Churn                       0.0\n",
       "dtype: float64"
      ]
     },
     "execution_count": 6,
     "metadata": {},
     "output_type": "execute_result"
    }
   ],
   "source": [
    "data.TotalSpent.fillna(data.TotalSpent.median(), inplace=True) #заполняем пропуски медианным значением столбца\n",
    "data.isna().mean() #проверяем наличие nan'ов"
   ]
  },
  {
   "cell_type": "code",
   "execution_count": 7,
   "id": "e9040fdb",
   "metadata": {
    "execution": {
     "iopub.execute_input": "2021-12-20T13:23:14.914900Z",
     "iopub.status.busy": "2021-12-20T13:23:14.914108Z",
     "iopub.status.idle": "2021-12-20T13:23:14.932259Z",
     "shell.execute_reply": "2021-12-20T13:23:14.933012Z"
    },
    "papermill": {
     "duration": 0.065269,
     "end_time": "2021-12-20T13:23:14.933281",
     "exception": false,
     "start_time": "2021-12-20T13:23:14.868012",
     "status": "completed"
    },
    "tags": []
   },
   "outputs": [
    {
     "name": "stdout",
     "output_type": "stream",
     "text": [
      "<class 'pandas.core.frame.DataFrame'>\n",
      "RangeIndex: 5282 entries, 0 to 5281\n",
      "Data columns (total 20 columns):\n",
      " #   Column                    Non-Null Count  Dtype  \n",
      "---  ------                    --------------  -----  \n",
      " 0   ClientPeriod              5282 non-null   int64  \n",
      " 1   MonthlySpending           5282 non-null   float64\n",
      " 2   TotalSpent                5282 non-null   float64\n",
      " 3   Sex                       5282 non-null   object \n",
      " 4   IsSeniorCitizen           5282 non-null   int64  \n",
      " 5   HasPartner                5282 non-null   object \n",
      " 6   HasChild                  5282 non-null   object \n",
      " 7   HasPhoneService           5282 non-null   object \n",
      " 8   HasMultiplePhoneNumbers   5282 non-null   object \n",
      " 9   HasInternetService        5282 non-null   object \n",
      " 10  HasOnlineSecurityService  5282 non-null   object \n",
      " 11  HasOnlineBackup           5282 non-null   object \n",
      " 12  HasDeviceProtection       5282 non-null   object \n",
      " 13  HasTechSupportAccess      5282 non-null   object \n",
      " 14  HasOnlineTV               5282 non-null   object \n",
      " 15  HasMovieSubscription      5282 non-null   object \n",
      " 16  HasContractPhone          5282 non-null   object \n",
      " 17  IsBillingPaperless        5282 non-null   object \n",
      " 18  PaymentMethod             5282 non-null   object \n",
      " 19  Churn                     5282 non-null   int64  \n",
      "dtypes: float64(2), int64(3), object(15)\n",
      "memory usage: 825.4+ KB\n"
     ]
    }
   ],
   "source": [
    "data.info() #проверяем наличие nan'ов ещё раз"
   ]
  },
  {
   "cell_type": "code",
   "execution_count": 8,
   "id": "caf7bd7c",
   "metadata": {
    "execution": {
     "iopub.execute_input": "2021-12-20T13:23:14.997370Z",
     "iopub.status.busy": "2021-12-20T13:23:14.996736Z",
     "iopub.status.idle": "2021-12-20T13:23:15.003773Z",
     "shell.execute_reply": "2021-12-20T13:23:15.003211Z"
    },
    "id": "KgnkkF5bEEY9",
    "papermill": {
     "duration": 0.040318,
     "end_time": "2021-12-20T13:23:15.003936",
     "exception": false,
     "start_time": "2021-12-20T13:23:14.963618",
     "status": "completed"
    },
    "tags": []
   },
   "outputs": [],
   "source": [
    "# Для вашего удобства списки с именами разных колонок\n",
    "\n",
    "# Числовые признаки\n",
    "num_cols = [\n",
    "    'ClientPeriod',\n",
    "    'MonthlySpending',\n",
    "    'TotalSpent'\n",
    "]\n",
    "\n",
    "# Категориальные признаки\n",
    "cat_cols = [\n",
    "    'Sex',\n",
    "    'IsSeniorCitizen',\n",
    "    'HasPartner',\n",
    "    'HasChild',\n",
    "    'HasPhoneService',\n",
    "    'HasMultiplePhoneNumbers',\n",
    "    'HasInternetService',\n",
    "    'HasOnlineSecurityService',\n",
    "    'HasOnlineBackup',\n",
    "    'HasDeviceProtection',\n",
    "    'HasTechSupportAccess',\n",
    "    'HasOnlineTV',\n",
    "    'HasMovieSubscription',\n",
    "    'HasContractPhone',\n",
    "    'IsBillingPaperless',\n",
    "    'PaymentMethod'\n",
    "]\n",
    "\n",
    "feature_cols = num_cols + cat_cols\n",
    "target_col = 'Churn'"
   ]
  },
  {
   "cell_type": "markdown",
   "id": "b25d0189",
   "metadata": {
    "papermill": {
     "duration": 0.029306,
     "end_time": "2021-12-20T13:23:15.062797",
     "exception": false,
     "start_time": "2021-12-20T13:23:15.033491",
     "status": "completed"
    },
    "tags": []
   },
   "source": [
    "## Анализ данных"
   ]
  },
  {
   "cell_type": "code",
   "execution_count": 9,
   "id": "def28fa1",
   "metadata": {
    "execution": {
     "iopub.execute_input": "2021-12-20T13:23:15.127579Z",
     "iopub.status.busy": "2021-12-20T13:23:15.126883Z",
     "iopub.status.idle": "2021-12-20T13:23:15.898703Z",
     "shell.execute_reply": "2021-12-20T13:23:15.897889Z"
    },
    "id": "NZkbgFJZEEZE",
    "papermill": {
     "duration": 0.806779,
     "end_time": "2021-12-20T13:23:15.898882",
     "exception": false,
     "start_time": "2021-12-20T13:23:15.092103",
     "status": "completed"
    },
    "scrolled": true,
    "tags": []
   },
   "outputs": [
    {
     "data": {
      "image/png": "[encoded data removed]",
      "text/plain": [
       "<Figure size 720x432 with 4 Axes>"
      ]
     },
     "metadata": {
      "needs_background": "light"
     },
     "output_type": "display_data"
    }
   ],
   "source": [
    "data.hist(column=num_cols, figsize=(10, 6))\n",
    "None"
   ]
  },
  {
   "cell_type": "code",
   "execution_count": 10,
   "id": "88c0d014",
   "metadata": {
    "execution": {
     "iopub.execute_input": "2021-12-20T13:23:15.965328Z",
     "iopub.status.busy": "2021-12-20T13:23:15.964678Z",
     "iopub.status.idle": "2021-12-20T13:23:16.200646Z",
     "shell.execute_reply": "2021-12-20T13:23:16.201193Z"
    },
    "papermill": {
     "duration": 0.271261,
     "end_time": "2021-12-20T13:23:16.201444",
     "exception": false,
     "start_time": "2021-12-20T13:23:15.930183",
     "status": "completed"
    },
    "scrolled": true,
    "tags": []
   },
   "outputs": [
    {
     "data": {
      "image/png": "[encoded data removed]",
      "text/plain": [
       "<Figure size 720x432 with 1 Axes>"
      ]
     },
     "metadata": {
      "needs_background": "light"
     },
     "output_type": "display_data"
    }
   ],
   "source": [
    "data.boxplot(column=num_cols, figsize=(10, 6)) #построим boxplot\n",
    "None"
   ]
  },
  {
   "cell_type": "code",
   "execution_count": 11,
   "id": "2fe288d1",
   "metadata": {
    "execution": {
     "iopub.execute_input": "2021-12-20T13:23:16.269918Z",
     "iopub.status.busy": "2021-12-20T13:23:16.269184Z",
     "iopub.status.idle": "2021-12-20T13:23:19.182182Z",
     "shell.execute_reply": "2021-12-20T13:23:19.182719Z"
    },
    "papermill": {
     "duration": 2.948673,
     "end_time": "2021-12-20T13:23:19.182929",
     "exception": false,
     "start_time": "2021-12-20T13:23:16.234256",
     "status": "completed"
    },
    "scrolled": true,
    "tags": []
   },
   "outputs": [
    {
     "data": {
      "image/png": "[encoded data removed]",
      "text/plain": [
       "<Figure size 1800x1800 with 16 Axes>"
      ]
     },
     "metadata": {},
     "output_type": "display_data"
    }
   ],
   "source": [
    "figure = plt.figure(figsize =(25, 25)) #построим диаграммы для категориальных признаков\n",
    "for i in range(len(cat_cols)):\n",
    "  plt.subplot(4,4,i+1)\n",
    "  plt.pie(data[cat_cols[i]].value_counts(), labels = data[cat_cols[i]].value_counts().index, autopct='%1.1f%%')\n",
    "  plt.title(cat_cols[i])\n",
    "  plt.legend()"
   ]
  },
  {
   "cell_type": "code",
   "execution_count": 12,
   "id": "8dfdb8c8",
   "metadata": {
    "execution": {
     "iopub.execute_input": "2021-12-20T13:23:19.263584Z",
     "iopub.status.busy": "2021-12-20T13:23:19.262692Z",
     "iopub.status.idle": "2021-12-20T13:23:19.425529Z",
     "shell.execute_reply": "2021-12-20T13:23:19.424989Z"
    },
    "papermill": {
     "duration": 0.204125,
     "end_time": "2021-12-20T13:23:19.425700",
     "exception": false,
     "start_time": "2021-12-20T13:23:19.221575",
     "status": "completed"
    },
    "tags": []
   },
   "outputs": [
    {
     "data": {
      "image/png": "[encoded data removed]",
      "text/plain": [
       "<Figure size 1440x1440 with 1 Axes>"
      ]
     },
     "metadata": {},
     "output_type": "display_data"
    }
   ],
   "source": [
    "plt.figure(figsize =(20, 20))\n",
    "data_i=data[target_col].value_counts()\n",
    "plt.subplot(4,4,1)\n",
    "plt.pie(data_i, labels = data_i.index, autopct='%1.1f%%')\n",
    "plt.title(target_col)\n",
    "plt.legend()\n",
    "None"
   ]
  },
  {
   "cell_type": "code",
   "execution_count": 13,
   "id": "2617bc55",
   "metadata": {
    "execution": {
     "iopub.execute_input": "2021-12-20T13:23:19.507698Z",
     "iopub.status.busy": "2021-12-20T13:23:19.506940Z",
     "iopub.status.idle": "2021-12-20T13:23:19.510339Z",
     "shell.execute_reply": "2021-12-20T13:23:19.510914Z"
    },
    "papermill": {
     "duration": 0.046541,
     "end_time": "2021-12-20T13:23:19.511117",
     "exception": false,
     "start_time": "2021-12-20T13:23:19.464576",
     "status": "completed"
    },
    "tags": []
   },
   "outputs": [],
   "source": [
    "# по диаграмме видно, что данные сбалансированы"
   ]
  },
  {
   "cell_type": "code",
   "execution_count": 14,
   "id": "7eacfe85",
   "metadata": {
    "execution": {
     "iopub.execute_input": "2021-12-20T13:23:19.593548Z",
     "iopub.status.busy": "2021-12-20T13:23:19.592873Z",
     "iopub.status.idle": "2021-12-20T13:23:19.680389Z",
     "shell.execute_reply": "2021-12-20T13:23:19.680937Z"
    },
    "papermill": {
     "duration": 0.130129,
     "end_time": "2021-12-20T13:23:19.681138",
     "exception": false,
     "start_time": "2021-12-20T13:23:19.551009",
     "status": "completed"
    },
    "tags": []
   },
   "outputs": [
    {
     "name": "stderr",
     "output_type": "stream",
     "text": [
      "/opt/conda/lib/python3.7/site-packages/ipykernel_launcher.py:1: FutureWarning: this method is deprecated in favour of `Styler.format(precision=..)`\n",
      "  \"\"\"Entry point for launching an IPython kernel.\n"
     ]
    },
    {
     "data": {
      "text/html": [
       "<style type=\"text/css\">\n",
       "#T_c37ee_row0_col0, #T_c37ee_row1_col1, #T_c37ee_row2_col2, #T_c37ee_row3_col3, #T_c37ee_row4_col4 {\n",
       "  background-color: #b40426;\n",
       "  color: #f1f1f1;\n",
       "}\n",
       "#T_c37ee_row0_col1 {\n",
       "  background-color: #536edd;\n",
       "  color: #f1f1f1;\n",
       "}\n",
       "#T_c37ee_row0_col2 {\n",
       "  background-color: #e36b54;\n",
       "  color: #f1f1f1;\n",
       "}\n",
       "#T_c37ee_row0_col3, #T_c37ee_row0_col4, #T_c37ee_row4_col0, #T_c37ee_row4_col1, #T_c37ee_row4_col2 {\n",
       "  background-color: #3b4cc0;\n",
       "  color: #f1f1f1;\n",
       "}\n",
       "#T_c37ee_row1_col0 {\n",
       "  background-color: #cdd9ec;\n",
       "  color: #000000;\n",
       "}\n",
       "#T_c37ee_row1_col2 {\n",
       "  background-color: #f7a98b;\n",
       "  color: #000000;\n",
       "}\n",
       "#T_c37ee_row1_col3 {\n",
       "  background-color: #7da0f9;\n",
       "  color: #f1f1f1;\n",
       "}\n",
       "#T_c37ee_row1_col4 {\n",
       "  background-color: #bfd3f6;\n",
       "  color: #000000;\n",
       "}\n",
       "#T_c37ee_row2_col0 {\n",
       "  background-color: #df634e;\n",
       "  color: #f1f1f1;\n",
       "}\n",
       "#T_c37ee_row2_col1 {\n",
       "  background-color: #edd1c2;\n",
       "  color: #000000;\n",
       "}\n",
       "#T_c37ee_row2_col3 {\n",
       "  background-color: #5470de;\n",
       "  color: #f1f1f1;\n",
       "}\n",
       "#T_c37ee_row2_col4 {\n",
       "  background-color: #5d7ce6;\n",
       "  color: #f1f1f1;\n",
       "}\n",
       "#T_c37ee_row3_col0 {\n",
       "  background-color: #93b5fe;\n",
       "  color: #000000;\n",
       "}\n",
       "#T_c37ee_row3_col1 {\n",
       "  background-color: #455cce;\n",
       "  color: #f1f1f1;\n",
       "}\n",
       "#T_c37ee_row3_col2 {\n",
       "  background-color: #8badfd;\n",
       "  color: #000000;\n",
       "}\n",
       "#T_c37ee_row3_col4 {\n",
       "  background-color: #b9d0f9;\n",
       "  color: #000000;\n",
       "}\n",
       "#T_c37ee_row4_col3 {\n",
       "  background-color: #688aef;\n",
       "  color: #f1f1f1;\n",
       "}\n",
       "</style>\n",
       "<table id=\"T_c37ee_\">\n",
       "  <thead>\n",
       "    <tr>\n",
       "      <th class=\"blank level0\" >&nbsp;</th>\n",
       "      <th class=\"col_heading level0 col0\" >ClientPeriod</th>\n",
       "      <th class=\"col_heading level0 col1\" >MonthlySpending</th>\n",
       "      <th class=\"col_heading level0 col2\" >TotalSpent</th>\n",
       "      <th class=\"col_heading level0 col3\" >IsSeniorCitizen</th>\n",
       "      <th class=\"col_heading level0 col4\" >Churn</th>\n",
       "    </tr>\n",
       "  </thead>\n",
       "  <tbody>\n",
       "    <tr>\n",
       "      <th id=\"T_c37ee_level0_row0\" class=\"row_heading level0 row0\" >ClientPeriod</th>\n",
       "      <td id=\"T_c37ee_row0_col0\" class=\"data row0 col0\" >1.00</td>\n",
       "      <td id=\"T_c37ee_row0_col1\" class=\"data row0 col1\" >0.25</td>\n",
       "      <td id=\"T_c37ee_row0_col2\" class=\"data row0 col2\" >0.83</td>\n",
       "      <td id=\"T_c37ee_row0_col3\" class=\"data row0 col3\" >0.01</td>\n",
       "      <td id=\"T_c37ee_row0_col4\" class=\"data row0 col4\" >-0.35</td>\n",
       "    </tr>\n",
       "    <tr>\n",
       "      <th id=\"T_c37ee_level0_row1\" class=\"row_heading level0 row1\" >MonthlySpending</th>\n",
       "      <td id=\"T_c37ee_row1_col0\" class=\"data row1 col0\" >0.25</td>\n",
       "      <td id=\"T_c37ee_row1_col1\" class=\"data row1 col1\" >1.00</td>\n",
       "      <td id=\"T_c37ee_row1_col2\" class=\"data row1 col2\" >0.65</td>\n",
       "      <td id=\"T_c37ee_row1_col3\" class=\"data row1 col3\" >0.22</td>\n",
       "      <td id=\"T_c37ee_row1_col4\" class=\"data row1 col4\" >0.18</td>\n",
       "    </tr>\n",
       "    <tr>\n",
       "      <th id=\"T_c37ee_level0_row2\" class=\"row_heading level0 row2\" >TotalSpent</th>\n",
       "      <td id=\"T_c37ee_row2_col0\" class=\"data row2 col0\" >0.83</td>\n",
       "      <td id=\"T_c37ee_row2_col1\" class=\"data row2 col1\" >0.65</td>\n",
       "      <td id=\"T_c37ee_row2_col2\" class=\"data row2 col2\" >1.00</td>\n",
       "      <td id=\"T_c37ee_row2_col3\" class=\"data row2 col3\" >0.09</td>\n",
       "      <td id=\"T_c37ee_row2_col4\" class=\"data row2 col4\" >-0.20</td>\n",
       "    </tr>\n",
       "    <tr>\n",
       "      <th id=\"T_c37ee_level0_row3\" class=\"row_heading level0 row3\" >IsSeniorCitizen</th>\n",
       "      <td id=\"T_c37ee_row3_col0\" class=\"data row3 col0\" >0.01</td>\n",
       "      <td id=\"T_c37ee_row3_col1\" class=\"data row3 col1\" >0.22</td>\n",
       "      <td id=\"T_c37ee_row3_col2\" class=\"data row3 col2\" >0.09</td>\n",
       "      <td id=\"T_c37ee_row3_col3\" class=\"data row3 col3\" >1.00</td>\n",
       "      <td id=\"T_c37ee_row3_col4\" class=\"data row3 col4\" >0.16</td>\n",
       "    </tr>\n",
       "    <tr>\n",
       "      <th id=\"T_c37ee_level0_row4\" class=\"row_heading level0 row4\" >Churn</th>\n",
       "      <td id=\"T_c37ee_row4_col0\" class=\"data row4 col0\" >-0.35</td>\n",
       "      <td id=\"T_c37ee_row4_col1\" class=\"data row4 col1\" >0.18</td>\n",
       "      <td id=\"T_c37ee_row4_col2\" class=\"data row4 col2\" >-0.20</td>\n",
       "      <td id=\"T_c37ee_row4_col3\" class=\"data row4 col3\" >0.16</td>\n",
       "      <td id=\"T_c37ee_row4_col4\" class=\"data row4 col4\" >1.00</td>\n",
       "    </tr>\n",
       "  </tbody>\n",
       "</table>\n"
      ],
      "text/plain": [
       "<pandas.io.formats.style.Styler at 0x7f5eba024a90>"
      ]
     },
     "execution_count": 14,
     "metadata": {},
     "output_type": "execute_result"
    }
   ],
   "source": [
    "data.corr().style.background_gradient(cmap='coolwarm').set_precision(2) #корелляция в норме"
   ]
  },
  {
   "cell_type": "markdown",
   "id": "4bf6eea9",
   "metadata": {
    "id": "DviiJd8REEZK",
    "papermill": {
     "duration": 0.039806,
     "end_time": "2021-12-20T13:23:19.760852",
     "exception": false,
     "start_time": "2021-12-20T13:23:19.721046",
     "status": "completed"
    },
    "tags": []
   },
   "source": [
    "## Линейные модели"
   ]
  },
  {
   "cell_type": "code",
   "execution_count": 15,
   "id": "e426bf70",
   "metadata": {
    "execution": {
     "iopub.execute_input": "2021-12-20T13:23:19.845666Z",
     "iopub.status.busy": "2021-12-20T13:23:19.844942Z",
     "iopub.status.idle": "2021-12-20T13:23:21.135059Z",
     "shell.execute_reply": "2021-12-20T13:23:21.134379Z"
    },
    "id": "xHCLDmwqEEZL",
    "papermill": {
     "duration": 1.334091,
     "end_time": "2021-12-20T13:23:21.135255",
     "exception": false,
     "start_time": "2021-12-20T13:23:19.801164",
     "status": "completed"
    },
    "tags": []
   },
   "outputs": [],
   "source": [
    "from sklearn.linear_model import LogisticRegression, LogisticRegressionCV\n",
    "from sklearn.model_selection import train_test_split, GridSearchCV\n",
    "from sklearn.preprocessing import StandardScaler, RobustScaler, LabelEncoder, OneHotEncoder\n",
    "from sklearn.pipeline import make_pipeline"
   ]
  },
  {
   "cell_type": "code",
   "execution_count": 16,
   "id": "a92bb843",
   "metadata": {
    "execution": {
     "iopub.execute_input": "2021-12-20T13:23:21.223765Z",
     "iopub.status.busy": "2021-12-20T13:23:21.223014Z",
     "iopub.status.idle": "2021-12-20T13:23:21.251353Z",
     "shell.execute_reply": "2021-12-20T13:23:21.250762Z"
    },
    "papermill": {
     "duration": 0.075882,
     "end_time": "2021-12-20T13:23:21.251540",
     "exception": false,
     "start_time": "2021-12-20T13:23:21.175658",
     "status": "completed"
    },
    "tags": []
   },
   "outputs": [],
   "source": [
    "X = pd.concat([data[num_cols], pd.get_dummies(data[cat_cols], drop_first=True)], axis=1) #делаем one-hot-encoding"
   ]
  },
  {
   "cell_type": "code",
   "execution_count": 17,
   "id": "014c114b",
   "metadata": {
    "execution": {
     "iopub.execute_input": "2021-12-20T13:23:21.336943Z",
     "iopub.status.busy": "2021-12-20T13:23:21.336252Z",
     "iopub.status.idle": "2021-12-20T13:23:21.350127Z",
     "shell.execute_reply": "2021-12-20T13:23:21.350933Z"
    },
    "papermill": {
     "duration": 0.058668,
     "end_time": "2021-12-20T13:23:21.351134",
     "exception": false,
     "start_time": "2021-12-20T13:23:21.292466",
     "status": "completed"
    },
    "tags": []
   },
   "outputs": [],
   "source": [
    "pca = StandardScaler()\n",
    "X = pca.fit_transform(X)"
   ]
  },
  {
   "cell_type": "code",
   "execution_count": 18,
   "id": "83123f46",
   "metadata": {
    "execution": {
     "iopub.execute_input": "2021-12-20T13:23:21.435505Z",
     "iopub.status.busy": "2021-12-20T13:23:21.434797Z",
     "iopub.status.idle": "2021-12-20T13:23:21.443354Z",
     "shell.execute_reply": "2021-12-20T13:23:21.443897Z"
    },
    "papermill": {
     "duration": 0.052719,
     "end_time": "2021-12-20T13:23:21.444071",
     "exception": false,
     "start_time": "2021-12-20T13:23:21.391352",
     "status": "completed"
    },
    "tags": []
   },
   "outputs": [],
   "source": [
    "y = data[target_col]\n",
    "X_train, X_test, y_train, y_test = train_test_split(X, y, random_state=42)"
   ]
  },
  {
   "cell_type": "code",
   "execution_count": 19,
   "id": "53d2a81b",
   "metadata": {
    "execution": {
     "iopub.execute_input": "2021-12-20T13:23:21.529440Z",
     "iopub.status.busy": "2021-12-20T13:23:21.528781Z",
     "iopub.status.idle": "2021-12-20T13:23:22.569695Z",
     "shell.execute_reply": "2021-12-20T13:23:22.570983Z"
    },
    "papermill": {
     "duration": 1.086709,
     "end_time": "2021-12-20T13:23:22.571307",
     "exception": false,
     "start_time": "2021-12-20T13:23:21.484598",
     "status": "completed"
    },
    "tags": []
   },
   "outputs": [
    {
     "data": {
      "text/plain": [
       "array([1, 0, 0, ..., 0, 0, 0])"
      ]
     },
     "execution_count": 19,
     "metadata": {},
     "output_type": "execute_result"
    }
   ],
   "source": [
    "lr = LogisticRegressionCV()\n",
    "lr.fit(X_train, y_train)\n",
    "lr.predict(X_test)"
   ]
  },
  {
   "cell_type": "code",
   "execution_count": 20,
   "id": "901634b1",
   "metadata": {
    "execution": {
     "iopub.execute_input": "2021-12-20T13:23:22.713650Z",
     "iopub.status.busy": "2021-12-20T13:23:22.712640Z",
     "iopub.status.idle": "2021-12-20T13:23:22.715109Z",
     "shell.execute_reply": "2021-12-20T13:23:22.714499Z"
    },
    "papermill": {
     "duration": 0.065596,
     "end_time": "2021-12-20T13:23:22.715275",
     "exception": false,
     "start_time": "2021-12-20T13:23:22.649679",
     "status": "completed"
    },
    "tags": []
   },
   "outputs": [],
   "source": [
    "from sklearn.metrics import r2_score, mean_squared_error, roc_auc_score"
   ]
  },
  {
   "cell_type": "code",
   "execution_count": 21,
   "id": "fd6a8805",
   "metadata": {
    "execution": {
     "iopub.execute_input": "2021-12-20T13:23:22.803482Z",
     "iopub.status.busy": "2021-12-20T13:23:22.802269Z",
     "iopub.status.idle": "2021-12-20T13:23:22.810766Z",
     "shell.execute_reply": "2021-12-20T13:23:22.811816Z"
    },
    "papermill": {
     "duration": 0.056006,
     "end_time": "2021-12-20T13:23:22.812110",
     "exception": false,
     "start_time": "2021-12-20T13:23:22.756104",
     "status": "completed"
    },
    "tags": []
   },
   "outputs": [
    {
     "name": "stdout",
     "output_type": "stream",
     "text": [
      "R^2: -0.26653883029721936\n",
      "MSE: 0.21044663133989402\n"
     ]
    }
   ],
   "source": [
    "print(f'R^2: {r2_score(lr.predict(X_test), y_test)}')\n",
    "print(f'MSE: {mean_squared_error(lr.predict(X_test), y_test)}')"
   ]
  },
  {
   "cell_type": "code",
   "execution_count": 22,
   "id": "e792384f",
   "metadata": {
    "execution": {
     "iopub.execute_input": "2021-12-20T13:23:22.958139Z",
     "iopub.status.busy": "2021-12-20T13:23:22.957361Z",
     "iopub.status.idle": "2021-12-20T13:23:25.903964Z",
     "shell.execute_reply": "2021-12-20T13:23:25.905613Z"
    },
    "papermill": {
     "duration": 3.015036,
     "end_time": "2021-12-20T13:23:25.906115",
     "exception": false,
     "start_time": "2021-12-20T13:23:22.891079",
     "status": "completed"
    },
    "tags": []
   },
   "outputs": [
    {
     "name": "stdout",
     "output_type": "stream",
     "text": [
      "{'logisticregression__C': 10.0}\n",
      "0.8505026685605749\n",
      "Pipeline(steps=[('standardscaler', StandardScaler()),\n",
      "                ('logisticregression', LogisticRegression(C=10.0))])\n"
     ]
    }
   ],
   "source": [
    "cls = make_pipeline(StandardScaler(),LogisticRegression())#модель логистической регресии \n",
    "param_grid = {'logisticregression__C': np.array([100, 10, 1, 0.1, 0.01, 0.001])}\n",
    "search = GridSearchCV(cls, param_grid, n_jobs=-1, cv=5, refit=True, scoring='roc_auc')\n",
    "search.fit(X_train, y_train)\n",
    "print(search.best_params_)\n",
    "print(search.best_score_)\n",
    "print(search.best_estimator_)"
   ]
  },
  {
   "cell_type": "markdown",
   "id": "d6803d3e",
   "metadata": {
    "id": "BlTeVy7fEEZR",
    "papermill": {
     "duration": 0.054621,
     "end_time": "2021-12-20T13:23:26.039640",
     "exception": false,
     "start_time": "2021-12-20T13:23:25.985019",
     "status": "completed"
    },
    "tags": []
   },
   "source": [
    "## Градиентный бустинг"
   ]
  },
  {
   "cell_type": "code",
   "execution_count": 23,
   "id": "fa955cc4",
   "metadata": {
    "execution": {
     "iopub.execute_input": "2021-12-20T13:23:26.129610Z",
     "iopub.status.busy": "2021-12-20T13:23:26.128879Z",
     "iopub.status.idle": "2021-12-20T13:23:26.376291Z",
     "shell.execute_reply": "2021-12-20T13:23:26.375767Z"
    },
    "papermill": {
     "duration": 0.294205,
     "end_time": "2021-12-20T13:23:26.376441",
     "exception": false,
     "start_time": "2021-12-20T13:23:26.082236",
     "status": "completed"
    },
    "scrolled": true,
    "tags": []
   },
   "outputs": [],
   "source": [
    "import catboost \n",
    "from catboost import CatBoostClassifier"
   ]
  },
  {
   "cell_type": "code",
   "execution_count": 24,
   "id": "008c7c84",
   "metadata": {
    "execution": {
     "iopub.execute_input": "2021-12-20T13:23:26.469735Z",
     "iopub.status.busy": "2021-12-20T13:23:26.469055Z",
     "iopub.status.idle": "2021-12-20T13:23:26.473143Z",
     "shell.execute_reply": "2021-12-20T13:23:26.473728Z"
    },
    "papermill": {
     "duration": 0.05509,
     "end_time": "2021-12-20T13:23:26.473899",
     "exception": false,
     "start_time": "2021-12-20T13:23:26.418809",
     "status": "completed"
    },
    "tags": []
   },
   "outputs": [],
   "source": [
    "X = data[feature_cols]\n",
    "y = data[target_col]\n",
    "X_train, X_test, y_train, y_test = train_test_split(X, y, random_state=42)"
   ]
  },
  {
   "cell_type": "code",
   "execution_count": 25,
   "id": "3643cdaf",
   "metadata": {
    "execution": {
     "iopub.execute_input": "2021-12-20T13:23:26.560857Z",
     "iopub.status.busy": "2021-12-20T13:23:26.560186Z",
     "iopub.status.idle": "2021-12-20T13:23:35.763368Z",
     "shell.execute_reply": "2021-12-20T13:23:35.762840Z"
    },
    "id": "Fioxxlp-EEZS",
    "papermill": {
     "duration": 9.247647,
     "end_time": "2021-12-20T13:23:35.763544",
     "exception": false,
     "start_time": "2021-12-20T13:23:26.515897",
     "status": "completed"
    },
    "tags": []
   },
   "outputs": [
    {
     "data": {
      "text/plain": [
       "<catboost.core.CatBoostClassifier at 0x7f5ea2958d90>"
      ]
     },
     "execution_count": 25,
     "metadata": {},
     "output_type": "execute_result"
    }
   ],
   "source": [
    "catboost_ = catboost.CatBoostClassifier(cat_features=cat_cols, random_seed=42, verbose=False)\n",
    "catboost_.fit(X_train, y_train)"
   ]
  },
  {
   "cell_type": "code",
   "execution_count": 26,
   "id": "56227620",
   "metadata": {
    "execution": {
     "iopub.execute_input": "2021-12-20T13:23:35.871478Z",
     "iopub.status.busy": "2021-12-20T13:23:35.870511Z",
     "iopub.status.idle": "2021-12-20T13:23:35.888595Z",
     "shell.execute_reply": "2021-12-20T13:23:35.887816Z"
    },
    "papermill": {
     "duration": 0.081935,
     "end_time": "2021-12-20T13:23:35.888799",
     "exception": false,
     "start_time": "2021-12-20T13:23:35.806864",
     "status": "completed"
    },
    "tags": []
   },
   "outputs": [
    {
     "data": {
      "text/plain": [
       "0.9008509688103061"
      ]
     },
     "execution_count": 26,
     "metadata": {},
     "output_type": "execute_result"
    }
   ],
   "source": [
    "roc_auc_score(y_train, catboost_.predict_proba(X_train)[:, 1]) #проверяем score на train'е"
   ]
  },
  {
   "cell_type": "code",
   "execution_count": 27,
   "id": "7a9ba591",
   "metadata": {
    "execution": {
     "iopub.execute_input": "2021-12-20T13:23:35.994130Z",
     "iopub.status.busy": "2021-12-20T13:23:35.993119Z",
     "iopub.status.idle": "2021-12-20T13:23:36.001421Z",
     "shell.execute_reply": "2021-12-20T13:23:36.001974Z"
    },
    "papermill": {
     "duration": 0.069215,
     "end_time": "2021-12-20T13:23:36.002152",
     "exception": false,
     "start_time": "2021-12-20T13:23:35.932937",
     "status": "completed"
    },
    "tags": []
   },
   "outputs": [
    {
     "data": {
      "text/plain": [
       "0.8207237246088472"
      ]
     },
     "execution_count": 27,
     "metadata": {},
     "output_type": "execute_result"
    }
   ],
   "source": [
    "roc_auc_score(y_test, catboost_.predict_proba(X_test)[:, 1]) #проверяем score на test'е"
   ]
  },
  {
   "cell_type": "code",
   "execution_count": 28,
   "id": "7c929429",
   "metadata": {
    "execution": {
     "iopub.execute_input": "2021-12-20T13:23:36.116084Z",
     "iopub.status.busy": "2021-12-20T13:23:36.106273Z",
     "iopub.status.idle": "2021-12-20T13:28:41.525045Z",
     "shell.execute_reply": "2021-12-20T13:28:41.525677Z"
    },
    "papermill": {
     "duration": 305.479039,
     "end_time": "2021-12-20T13:28:41.525891",
     "exception": false,
     "start_time": "2021-12-20T13:23:36.046852",
     "status": "completed"
    },
    "scrolled": true,
    "tags": []
   },
   "outputs": [
    {
     "name": "stdout",
     "output_type": "stream",
     "text": [
      "\n",
      "bestTest = 0.3893077881\n",
      "bestIteration = 119\n",
      "\n",
      "0:\tloss: 0.3893078\tbest: 0.3893078 (0)\ttotal: 850ms\tremaining: 33.1s\n",
      "\n",
      "bestTest = 0.3921074432\n",
      "bestIteration = 83\n",
      "\n",
      "1:\tloss: 0.3921074\tbest: 0.3893078 (0)\ttotal: 1.67s\tremaining: 31.7s\n",
      "\n",
      "bestTest = 0.3893077881\n",
      "bestIteration = 119\n",
      "\n",
      "2:\tloss: 0.3893078\tbest: 0.3893078 (0)\ttotal: 3.22s\tremaining: 39.7s\n",
      "\n",
      "bestTest = 0.3921074432\n",
      "bestIteration = 83\n",
      "\n",
      "3:\tloss: 0.3921074\tbest: 0.3893078 (0)\ttotal: 4.64s\tremaining: 41.8s\n",
      "\n",
      "bestTest = 0.3893077881\n",
      "bestIteration = 119\n",
      "\n",
      "4:\tloss: 0.3893078\tbest: 0.3893078 (0)\ttotal: 6.88s\tremaining: 48.2s\n",
      "\n",
      "bestTest = 0.3921074432\n",
      "bestIteration = 83\n",
      "\n",
      "5:\tloss: 0.3921074\tbest: 0.3893078 (0)\ttotal: 9.25s\tremaining: 52.4s\n",
      "\n",
      "bestTest = 0.3893077881\n",
      "bestIteration = 119\n",
      "\n",
      "6:\tloss: 0.3893078\tbest: 0.3893078 (0)\ttotal: 12.2s\tremaining: 57.6s\n",
      "\n",
      "bestTest = 0.3921074432\n",
      "bestIteration = 83\n",
      "\n",
      "7:\tloss: 0.3921074\tbest: 0.3893078 (0)\ttotal: 15.3s\tremaining: 1m 1s\n",
      "\n",
      "bestTest = 0.3922507689\n",
      "bestIteration = 118\n",
      "\n",
      "8:\tloss: 0.3922508\tbest: 0.3893078 (0)\ttotal: 16.7s\tremaining: 57.5s\n",
      "\n",
      "bestTest = 0.3929530152\n",
      "bestIteration = 55\n",
      "\n",
      "9:\tloss: 0.3929530\tbest: 0.3893078 (0)\ttotal: 18.2s\tremaining: 54.5s\n",
      "\n",
      "bestTest = 0.3922507689\n",
      "bestIteration = 118\n",
      "\n",
      "10:\tloss: 0.3922508\tbest: 0.3893078 (0)\ttotal: 21s\tremaining: 55.4s\n",
      "\n",
      "bestTest = 0.3929530152\n",
      "bestIteration = 55\n",
      "\n",
      "11:\tloss: 0.3929530\tbest: 0.3893078 (0)\ttotal: 23.7s\tremaining: 55.4s\n",
      "\n",
      "bestTest = 0.3922507689\n",
      "bestIteration = 118\n",
      "\n",
      "12:\tloss: 0.3922508\tbest: 0.3893078 (0)\ttotal: 27.9s\tremaining: 57.9s\n",
      "\n",
      "bestTest = 0.3929530152\n",
      "bestIteration = 55\n",
      "\n",
      "13:\tloss: 0.3929530\tbest: 0.3893078 (0)\ttotal: 32.4s\tremaining: 1m\n",
      "\n",
      "bestTest = 0.3922507689\n",
      "bestIteration = 118\n",
      "\n",
      "14:\tloss: 0.3922508\tbest: 0.3893078 (0)\ttotal: 37.9s\tremaining: 1m 3s\n",
      "\n",
      "bestTest = 0.3929530152\n",
      "bestIteration = 55\n",
      "\n",
      "15:\tloss: 0.3929530\tbest: 0.3893078 (0)\ttotal: 43.7s\tremaining: 1m 5s\n",
      "\n",
      "bestTest = 0.3920497093\n",
      "bestIteration = 62\n",
      "\n",
      "16:\tloss: 0.3920497\tbest: 0.3893078 (0)\ttotal: 45.7s\tremaining: 1m 1s\n",
      "\n",
      "bestTest = 0.3905095087\n",
      "bestIteration = 18\n",
      "\n",
      "17:\tloss: 0.3905095\tbest: 0.3893078 (0)\ttotal: 47.7s\tremaining: 58.4s\n",
      "\n",
      "bestTest = 0.3920497093\n",
      "bestIteration = 62\n",
      "\n",
      "18:\tloss: 0.3920497\tbest: 0.3893078 (0)\ttotal: 51.9s\tremaining: 57.4s\n",
      "\n",
      "bestTest = 0.3905095087\n",
      "bestIteration = 18\n",
      "\n",
      "19:\tloss: 0.3905095\tbest: 0.3893078 (0)\ttotal: 56.4s\tremaining: 56.4s\n",
      "\n",
      "bestTest = 0.3920497093\n",
      "bestIteration = 62\n",
      "\n",
      "20:\tloss: 0.3920497\tbest: 0.3893078 (0)\ttotal: 1m 3s\tremaining: 57.3s\n",
      "\n",
      "bestTest = 0.3905095087\n",
      "bestIteration = 18\n",
      "\n",
      "21:\tloss: 0.3905095\tbest: 0.3893078 (0)\ttotal: 1m 10s\tremaining: 57.3s\n",
      "\n",
      "bestTest = 0.3920497093\n",
      "bestIteration = 62\n",
      "\n",
      "22:\tloss: 0.3920497\tbest: 0.3893078 (0)\ttotal: 1m 18s\tremaining: 58.2s\n",
      "\n",
      "bestTest = 0.3905095087\n",
      "bestIteration = 18\n",
      "\n",
      "23:\tloss: 0.3905095\tbest: 0.3893078 (0)\ttotal: 1m 27s\tremaining: 58.2s\n",
      "\n",
      "bestTest = 0.396365153\n",
      "bestIteration = 37\n",
      "\n",
      "24:\tloss: 0.3963652\tbest: 0.3893078 (0)\ttotal: 1m 31s\tremaining: 54.7s\n",
      "\n",
      "bestTest = 0.3953365865\n",
      "bestIteration = 23\n",
      "\n",
      "25:\tloss: 0.3953366\tbest: 0.3893078 (0)\ttotal: 1m 35s\tremaining: 51.3s\n",
      "\n",
      "bestTest = 0.396365153\n",
      "bestIteration = 37\n",
      "\n",
      "26:\tloss: 0.3963652\tbest: 0.3893078 (0)\ttotal: 1m 43s\tremaining: 49.6s\n",
      "\n",
      "bestTest = 0.3953365865\n",
      "bestIteration = 23\n",
      "\n",
      "27:\tloss: 0.3953366\tbest: 0.3893078 (0)\ttotal: 1m 51s\tremaining: 47.9s\n",
      "\n",
      "bestTest = 0.396365153\n",
      "bestIteration = 37\n",
      "\n",
      "28:\tloss: 0.3963652\tbest: 0.3893078 (0)\ttotal: 2m 3s\tremaining: 46.9s\n",
      "\n",
      "bestTest = 0.3953365865\n",
      "bestIteration = 23\n",
      "\n",
      "29:\tloss: 0.3953366\tbest: 0.3893078 (0)\ttotal: 2m 16s\tremaining: 45.4s\n",
      "\n",
      "bestTest = 0.396365153\n",
      "bestIteration = 37\n",
      "\n",
      "30:\tloss: 0.3963652\tbest: 0.3893078 (0)\ttotal: 2m 32s\tremaining: 44.3s\n",
      "\n",
      "bestTest = 0.3953365865\n",
      "bestIteration = 23\n",
      "\n",
      "31:\tloss: 0.3953366\tbest: 0.3893078 (0)\ttotal: 2m 49s\tremaining: 42.4s\n",
      "\n",
      "bestTest = 0.3995836252\n",
      "bestIteration = 23\n",
      "\n",
      "32:\tloss: 0.3995836\tbest: 0.3893078 (0)\ttotal: 2m 55s\tremaining: 37.2s\n",
      "\n",
      "bestTest = 0.4051239622\n",
      "bestIteration = 13\n",
      "\n",
      "33:\tloss: 0.4051240\tbest: 0.3893078 (0)\ttotal: 3m 2s\tremaining: 32.1s\n",
      "\n",
      "bestTest = 0.3995836252\n",
      "bestIteration = 23\n",
      "\n",
      "34:\tloss: 0.3995836\tbest: 0.3893078 (0)\ttotal: 3m 15s\tremaining: 27.9s\n",
      "\n",
      "bestTest = 0.4051239622\n",
      "bestIteration = 13\n",
      "\n",
      "35:\tloss: 0.4051240\tbest: 0.3893078 (0)\ttotal: 3m 28s\tremaining: 23.2s\n",
      "\n",
      "bestTest = 0.3995836252\n",
      "bestIteration = 23\n",
      "\n",
      "36:\tloss: 0.3995836\tbest: 0.3893078 (0)\ttotal: 3m 48s\tremaining: 18.5s\n",
      "\n",
      "bestTest = 0.4051239622\n",
      "bestIteration = 13\n",
      "\n",
      "37:\tloss: 0.4051240\tbest: 0.3893078 (0)\ttotal: 4m 8s\tremaining: 13.1s\n",
      "\n",
      "bestTest = 0.3995836252\n",
      "bestIteration = 23\n",
      "\n",
      "38:\tloss: 0.3995836\tbest: 0.3893078 (0)\ttotal: 4m 35s\tremaining: 7.05s\n",
      "\n",
      "bestTest = 0.4051239622\n",
      "bestIteration = 13\n",
      "\n",
      "39:\tloss: 0.4051240\tbest: 0.3893078 (0)\ttotal: 5m 2s\tremaining: 0us\n",
      "Estimating final quality...\n",
      "Training on fold [0/3]\n",
      "\n",
      "bestTest = 0.3926530857\n",
      "bestIteration = 198\n",
      "\n",
      "Training on fold [1/3]\n",
      "\n",
      "bestTest = 0.43242674\n",
      "bestIteration = 169\n",
      "\n",
      "Training on fold [2/3]\n",
      "\n",
      "bestTest = 0.3913126337\n",
      "bestIteration = 180\n",
      "\n"
     ]
    }
   ],
   "source": [
    "params = {'iterations':[200, 400, 600, 800], 'learning_rate':[0.1, 0.2], 'depth':[2, 4, 6, 8, 10]} #создаём гиперпараметры\n",
    "\n",
    "model_with_grid = catboost.CatBoostClassifier(cat_features=cat_cols, random_seed=42, verbose=False)\n",
    "best_model = model_with_grid.grid_search(params, X_train, y=y_train)"
   ]
  },
  {
   "cell_type": "code",
   "execution_count": 29,
   "id": "cc288d5c",
   "metadata": {
    "execution": {
     "iopub.execute_input": "2021-12-20T13:28:41.645153Z",
     "iopub.status.busy": "2021-12-20T13:28:41.644166Z",
     "iopub.status.idle": "2021-12-20T13:28:41.690395Z",
     "shell.execute_reply": "2021-12-20T13:28:41.689721Z"
    },
    "papermill": {
     "duration": 0.107756,
     "end_time": "2021-12-20T13:28:41.690577",
     "exception": false,
     "start_time": "2021-12-20T13:28:41.582821",
     "status": "completed"
    },
    "tags": []
   },
   "outputs": [],
   "source": [
    "y_train_pred = catboost_.predict_proba(X_train)[:, 1]\n",
    "y_test_pred = catboost_.predict_proba(X_test)[:, 1]"
   ]
  },
  {
   "cell_type": "code",
   "execution_count": 30,
   "id": "8a50e7b1",
   "metadata": {
    "execution": {
     "iopub.execute_input": "2021-12-20T13:28:41.810553Z",
     "iopub.status.busy": "2021-12-20T13:28:41.809877Z",
     "iopub.status.idle": "2021-12-20T13:28:41.819360Z",
     "shell.execute_reply": "2021-12-20T13:28:41.818805Z"
    },
    "papermill": {
     "duration": 0.072562,
     "end_time": "2021-12-20T13:28:41.819520",
     "exception": false,
     "start_time": "2021-12-20T13:28:41.746958",
     "status": "completed"
    },
    "tags": []
   },
   "outputs": [
    {
     "name": "stdout",
     "output_type": "stream",
     "text": [
      "Best train score: 0.9008509688103061\n",
      "Best test score: 0.8207237246088472\n",
      "Best params: {'depth': 2, 'iterations': 200, 'learning_rate': 0.1}\n"
     ]
    }
   ],
   "source": [
    "print(f'Best train score: {roc_auc_score(y_train, y_train_pred)}')\n",
    "print(f'Best test score: {roc_auc_score(y_test, y_test_pred)}')\n",
    "print(f'Best params: {best_model[\"params\"]}')"
   ]
  },
  {
   "cell_type": "code",
   "execution_count": 31,
   "id": "c5154df5",
   "metadata": {
    "execution": {
     "iopub.execute_input": "2021-12-20T13:28:41.960754Z",
     "iopub.status.busy": "2021-12-20T13:28:41.959718Z",
     "iopub.status.idle": "2021-12-20T13:28:41.970264Z",
     "shell.execute_reply": "2021-12-20T13:28:41.969770Z"
    },
    "papermill": {
     "duration": 0.092042,
     "end_time": "2021-12-20T13:28:41.970403",
     "exception": false,
     "start_time": "2021-12-20T13:28:41.878361",
     "status": "completed"
    },
    "tags": []
   },
   "outputs": [
    {
     "data": {
      "text/plain": [
       "0.8652033458509362"
      ]
     },
     "execution_count": 31,
     "metadata": {},
     "output_type": "execute_result"
    }
   ],
   "source": [
    "roc_auc_score(y_train, model_with_grid.predict_proba(X_train)[:, 1])"
   ]
  },
  {
   "cell_type": "markdown",
   "id": "9d63b85c",
   "metadata": {
    "id": "dDMXbvNZEEZV",
    "papermill": {
     "duration": 0.057197,
     "end_time": "2021-12-20T13:28:42.085442",
     "exception": false,
     "start_time": "2021-12-20T13:28:42.028245",
     "status": "completed"
    },
    "tags": []
   },
   "source": [
    "# Предсказания"
   ]
  },
  {
   "cell_type": "code",
   "execution_count": 32,
   "id": "8e7e76f3",
   "metadata": {
    "execution": {
     "iopub.execute_input": "2021-12-20T13:28:42.206541Z",
     "iopub.status.busy": "2021-12-20T13:28:42.205541Z",
     "iopub.status.idle": "2021-12-20T13:28:42.208439Z",
     "shell.execute_reply": "2021-12-20T13:28:42.207950Z"
    },
    "papermill": {
     "duration": 0.065989,
     "end_time": "2021-12-20T13:28:42.208614",
     "exception": false,
     "start_time": "2021-12-20T13:28:42.142625",
     "status": "completed"
    },
    "tags": []
   },
   "outputs": [],
   "source": [
    "best_model = CatBoostClassifier(iterations=200, depth=2, learning_rate = 0.1)"
   ]
  },
  {
   "cell_type": "code",
   "execution_count": 33,
   "id": "fc232007",
   "metadata": {
    "execution": {
     "iopub.execute_input": "2021-12-20T13:28:42.340281Z",
     "iopub.status.busy": "2021-12-20T13:28:42.334215Z",
     "iopub.status.idle": "2021-12-20T13:28:43.100587Z",
     "shell.execute_reply": "2021-12-20T13:28:43.101179Z"
    },
    "id": "G_P4wFNaEEZW",
    "outputId": "1fba5dfc-88e4-49e3-ed8a-afe21ae3325a",
    "papermill": {
     "duration": 0.835114,
     "end_time": "2021-12-20T13:28:43.101350",
     "exception": false,
     "start_time": "2021-12-20T13:28:42.266236",
     "status": "completed"
    },
    "tags": []
   },
   "outputs": [
    {
     "name": "stdout",
     "output_type": "stream",
     "text": [
      "0:\tlearn: 0.6593763\ttotal: 3.21ms\tremaining: 640ms\n",
      "1:\tlearn: 0.6211133\ttotal: 8.49ms\tremaining: 841ms\n",
      "2:\tlearn: 0.5957959\ttotal: 11.9ms\tremaining: 781ms\n",
      "3:\tlearn: 0.5689225\ttotal: 14.8ms\tremaining: 727ms\n",
      "4:\tlearn: 0.5460989\ttotal: 17.9ms\tremaining: 700ms\n",
      "5:\tlearn: 0.5204758\ttotal: 21ms\tremaining: 680ms\n",
      "6:\tlearn: 0.5039264\ttotal: 24.2ms\tremaining: 669ms\n",
      "7:\tlearn: 0.4887359\ttotal: 27.5ms\tremaining: 660ms\n",
      "8:\tlearn: 0.4783257\ttotal: 30.2ms\tremaining: 641ms\n",
      "9:\tlearn: 0.4691525\ttotal: 33ms\tremaining: 628ms\n",
      "10:\tlearn: 0.4635895\ttotal: 35.9ms\tremaining: 617ms\n",
      "11:\tlearn: 0.4588959\ttotal: 38.5ms\tremaining: 603ms\n",
      "12:\tlearn: 0.4518545\ttotal: 41.3ms\tremaining: 594ms\n",
      "13:\tlearn: 0.4478034\ttotal: 44.2ms\tremaining: 588ms\n",
      "14:\tlearn: 0.4438482\ttotal: 47.3ms\tremaining: 584ms\n",
      "15:\tlearn: 0.4400723\ttotal: 50.3ms\tremaining: 579ms\n",
      "16:\tlearn: 0.4370227\ttotal: 53.5ms\tremaining: 576ms\n",
      "17:\tlearn: 0.4342612\ttotal: 56.8ms\tremaining: 574ms\n",
      "18:\tlearn: 0.4320337\ttotal: 59.6ms\tremaining: 568ms\n",
      "19:\tlearn: 0.4297729\ttotal: 62.3ms\tremaining: 561ms\n",
      "20:\tlearn: 0.4278847\ttotal: 64.7ms\tremaining: 551ms\n",
      "21:\tlearn: 0.4259481\ttotal: 67.4ms\tremaining: 545ms\n",
      "22:\tlearn: 0.4233372\ttotal: 70.6ms\tremaining: 543ms\n",
      "23:\tlearn: 0.4219914\ttotal: 73.3ms\tremaining: 537ms\n",
      "24:\tlearn: 0.4209010\ttotal: 76.2ms\tremaining: 534ms\n",
      "25:\tlearn: 0.4200377\ttotal: 79ms\tremaining: 528ms\n",
      "26:\tlearn: 0.4190587\ttotal: 81.7ms\tremaining: 523ms\n",
      "27:\tlearn: 0.4180452\ttotal: 84.6ms\tremaining: 520ms\n",
      "28:\tlearn: 0.4175051\ttotal: 87.6ms\tremaining: 517ms\n",
      "29:\tlearn: 0.4168287\ttotal: 90.6ms\tremaining: 513ms\n",
      "30:\tlearn: 0.4159141\ttotal: 93.9ms\tremaining: 512ms\n",
      "31:\tlearn: 0.4153728\ttotal: 97.4ms\tremaining: 512ms\n",
      "32:\tlearn: 0.4150042\ttotal: 101ms\tremaining: 509ms\n",
      "33:\tlearn: 0.4144329\ttotal: 104ms\tremaining: 506ms\n",
      "34:\tlearn: 0.4137828\ttotal: 107ms\tremaining: 505ms\n",
      "35:\tlearn: 0.4133840\ttotal: 110ms\tremaining: 500ms\n",
      "36:\tlearn: 0.4126207\ttotal: 113ms\tremaining: 496ms\n",
      "37:\tlearn: 0.4117775\ttotal: 116ms\tremaining: 494ms\n",
      "38:\tlearn: 0.4116361\ttotal: 119ms\tremaining: 490ms\n",
      "39:\tlearn: 0.4112264\ttotal: 121ms\tremaining: 485ms\n",
      "40:\tlearn: 0.4108876\ttotal: 124ms\tremaining: 482ms\n",
      "41:\tlearn: 0.4104904\ttotal: 127ms\tremaining: 478ms\n",
      "42:\tlearn: 0.4102844\ttotal: 131ms\tremaining: 477ms\n",
      "43:\tlearn: 0.4096305\ttotal: 134ms\tremaining: 473ms\n",
      "44:\tlearn: 0.4095337\ttotal: 137ms\tremaining: 472ms\n",
      "45:\tlearn: 0.4092711\ttotal: 140ms\tremaining: 468ms\n",
      "46:\tlearn: 0.4087534\ttotal: 143ms\tremaining: 466ms\n",
      "47:\tlearn: 0.4084973\ttotal: 146ms\tremaining: 464ms\n",
      "48:\tlearn: 0.4083654\ttotal: 149ms\tremaining: 460ms\n",
      "49:\tlearn: 0.4081333\ttotal: 153ms\tremaining: 458ms\n",
      "50:\tlearn: 0.4079206\ttotal: 156ms\tremaining: 455ms\n",
      "51:\tlearn: 0.4077315\ttotal: 159ms\tremaining: 453ms\n",
      "52:\tlearn: 0.4072777\ttotal: 162ms\tremaining: 449ms\n",
      "53:\tlearn: 0.4066353\ttotal: 165ms\tremaining: 445ms\n",
      "54:\tlearn: 0.4066130\ttotal: 168ms\tremaining: 443ms\n",
      "55:\tlearn: 0.4060371\ttotal: 171ms\tremaining: 439ms\n",
      "56:\tlearn: 0.4058839\ttotal: 174ms\tremaining: 437ms\n",
      "57:\tlearn: 0.4057066\ttotal: 177ms\tremaining: 432ms\n",
      "58:\tlearn: 0.4056560\ttotal: 180ms\tremaining: 430ms\n",
      "59:\tlearn: 0.4054554\ttotal: 183ms\tremaining: 426ms\n",
      "60:\tlearn: 0.4050001\ttotal: 186ms\tremaining: 424ms\n",
      "61:\tlearn: 0.4048795\ttotal: 189ms\tremaining: 420ms\n",
      "62:\tlearn: 0.4047206\ttotal: 192ms\tremaining: 418ms\n",
      "63:\tlearn: 0.4046399\ttotal: 197ms\tremaining: 419ms\n",
      "64:\tlearn: 0.4045331\ttotal: 201ms\tremaining: 418ms\n",
      "65:\tlearn: 0.4042543\ttotal: 205ms\tremaining: 416ms\n",
      "66:\tlearn: 0.4040772\ttotal: 208ms\tremaining: 413ms\n",
      "67:\tlearn: 0.4038959\ttotal: 212ms\tremaining: 411ms\n",
      "68:\tlearn: 0.4038602\ttotal: 215ms\tremaining: 408ms\n",
      "69:\tlearn: 0.4037843\ttotal: 218ms\tremaining: 405ms\n",
      "70:\tlearn: 0.4034179\ttotal: 221ms\tremaining: 402ms\n",
      "71:\tlearn: 0.4032300\ttotal: 225ms\tremaining: 400ms\n",
      "72:\tlearn: 0.4031432\ttotal: 229ms\tremaining: 398ms\n",
      "73:\tlearn: 0.4031170\ttotal: 232ms\tremaining: 396ms\n",
      "74:\tlearn: 0.4029794\ttotal: 236ms\tremaining: 393ms\n",
      "75:\tlearn: 0.4026987\ttotal: 239ms\tremaining: 391ms\n",
      "76:\tlearn: 0.4026061\ttotal: 242ms\tremaining: 387ms\n",
      "77:\tlearn: 0.4022602\ttotal: 246ms\tremaining: 384ms\n",
      "78:\tlearn: 0.4021979\ttotal: 249ms\tremaining: 381ms\n",
      "79:\tlearn: 0.4021394\ttotal: 252ms\tremaining: 378ms\n",
      "80:\tlearn: 0.4019340\ttotal: 255ms\tremaining: 374ms\n",
      "81:\tlearn: 0.4019272\ttotal: 258ms\tremaining: 371ms\n",
      "82:\tlearn: 0.4018635\ttotal: 261ms\tremaining: 367ms\n",
      "83:\tlearn: 0.4018635\ttotal: 264ms\tremaining: 364ms\n",
      "84:\tlearn: 0.4015284\ttotal: 267ms\tremaining: 361ms\n",
      "85:\tlearn: 0.4013946\ttotal: 270ms\tremaining: 358ms\n",
      "86:\tlearn: 0.4013285\ttotal: 273ms\tremaining: 355ms\n",
      "87:\tlearn: 0.4013069\ttotal: 276ms\tremaining: 351ms\n",
      "88:\tlearn: 0.4012341\ttotal: 280ms\tremaining: 349ms\n",
      "89:\tlearn: 0.4011511\ttotal: 283ms\tremaining: 346ms\n",
      "90:\tlearn: 0.4010787\ttotal: 286ms\tremaining: 342ms\n",
      "91:\tlearn: 0.4010718\ttotal: 289ms\tremaining: 339ms\n",
      "92:\tlearn: 0.4010134\ttotal: 292ms\tremaining: 336ms\n",
      "93:\tlearn: 0.4007074\ttotal: 295ms\tremaining: 333ms\n",
      "94:\tlearn: 0.4004347\ttotal: 298ms\tremaining: 330ms\n",
      "95:\tlearn: 0.4003329\ttotal: 301ms\tremaining: 326ms\n",
      "96:\tlearn: 0.4002319\ttotal: 304ms\tremaining: 323ms\n",
      "97:\tlearn: 0.4002319\ttotal: 307ms\tremaining: 320ms\n",
      "98:\tlearn: 0.4001642\ttotal: 311ms\tremaining: 317ms\n",
      "99:\tlearn: 0.4000979\ttotal: 314ms\tremaining: 314ms\n",
      "100:\tlearn: 0.4000929\ttotal: 317ms\tremaining: 310ms\n",
      "101:\tlearn: 0.3999699\ttotal: 319ms\tremaining: 307ms\n",
      "102:\tlearn: 0.3995616\ttotal: 323ms\tremaining: 304ms\n",
      "103:\tlearn: 0.3993224\ttotal: 326ms\tremaining: 301ms\n",
      "104:\tlearn: 0.3991420\ttotal: 329ms\tremaining: 298ms\n",
      "105:\tlearn: 0.3991387\ttotal: 332ms\tremaining: 295ms\n",
      "106:\tlearn: 0.3990316\ttotal: 336ms\tremaining: 292ms\n",
      "107:\tlearn: 0.3989809\ttotal: 339ms\tremaining: 288ms\n",
      "108:\tlearn: 0.3989144\ttotal: 341ms\tremaining: 285ms\n",
      "109:\tlearn: 0.3986921\ttotal: 344ms\tremaining: 282ms\n",
      "110:\tlearn: 0.3985873\ttotal: 347ms\tremaining: 278ms\n",
      "111:\tlearn: 0.3983522\ttotal: 350ms\tremaining: 275ms\n",
      "112:\tlearn: 0.3982780\ttotal: 353ms\tremaining: 272ms\n",
      "113:\tlearn: 0.3979948\ttotal: 356ms\tremaining: 269ms\n",
      "114:\tlearn: 0.3979361\ttotal: 359ms\tremaining: 265ms\n",
      "115:\tlearn: 0.3977530\ttotal: 362ms\tremaining: 262ms\n",
      "116:\tlearn: 0.3976891\ttotal: 364ms\tremaining: 258ms\n",
      "117:\tlearn: 0.3975315\ttotal: 368ms\tremaining: 256ms\n",
      "118:\tlearn: 0.3975285\ttotal: 370ms\tremaining: 252ms\n",
      "119:\tlearn: 0.3973236\ttotal: 373ms\tremaining: 249ms\n",
      "120:\tlearn: 0.3972809\ttotal: 376ms\tremaining: 245ms\n",
      "121:\tlearn: 0.3972418\ttotal: 379ms\tremaining: 242ms\n",
      "122:\tlearn: 0.3971737\ttotal: 382ms\tremaining: 239ms\n",
      "123:\tlearn: 0.3971709\ttotal: 385ms\tremaining: 236ms\n",
      "124:\tlearn: 0.3971202\ttotal: 388ms\tremaining: 233ms\n",
      "125:\tlearn: 0.3969287\ttotal: 394ms\tremaining: 231ms\n",
      "126:\tlearn: 0.3969104\ttotal: 397ms\tremaining: 228ms\n",
      "127:\tlearn: 0.3968908\ttotal: 400ms\tremaining: 225ms\n",
      "128:\tlearn: 0.3968518\ttotal: 403ms\tremaining: 222ms\n",
      "129:\tlearn: 0.3966503\ttotal: 406ms\tremaining: 219ms\n",
      "130:\tlearn: 0.3966430\ttotal: 409ms\tremaining: 216ms\n",
      "131:\tlearn: 0.3965427\ttotal: 412ms\tremaining: 212ms\n",
      "132:\tlearn: 0.3964860\ttotal: 416ms\tremaining: 210ms\n",
      "133:\tlearn: 0.3961290\ttotal: 419ms\tremaining: 207ms\n",
      "134:\tlearn: 0.3961219\ttotal: 423ms\tremaining: 203ms\n",
      "135:\tlearn: 0.3961075\ttotal: 426ms\tremaining: 200ms\n",
      "136:\tlearn: 0.3960657\ttotal: 428ms\tremaining: 197ms\n",
      "137:\tlearn: 0.3960111\ttotal: 432ms\tremaining: 194ms\n",
      "138:\tlearn: 0.3959713\ttotal: 435ms\tremaining: 191ms\n",
      "139:\tlearn: 0.3959597\ttotal: 438ms\tremaining: 188ms\n",
      "140:\tlearn: 0.3959273\ttotal: 441ms\tremaining: 184ms\n",
      "141:\tlearn: 0.3957211\ttotal: 444ms\tremaining: 181ms\n",
      "142:\tlearn: 0.3956433\ttotal: 447ms\tremaining: 178ms\n",
      "143:\tlearn: 0.3956090\ttotal: 450ms\tremaining: 175ms\n",
      "144:\tlearn: 0.3955713\ttotal: 453ms\tremaining: 172ms\n",
      "145:\tlearn: 0.3955556\ttotal: 456ms\tremaining: 169ms\n",
      "146:\tlearn: 0.3955196\ttotal: 459ms\tremaining: 166ms\n",
      "147:\tlearn: 0.3953520\ttotal: 463ms\tremaining: 163ms\n",
      "148:\tlearn: 0.3953134\ttotal: 466ms\tremaining: 159ms\n",
      "149:\tlearn: 0.3952606\ttotal: 469ms\tremaining: 156ms\n",
      "150:\tlearn: 0.3950620\ttotal: 472ms\tremaining: 153ms\n",
      "151:\tlearn: 0.3949034\ttotal: 475ms\tremaining: 150ms\n",
      "152:\tlearn: 0.3948040\ttotal: 478ms\tremaining: 147ms\n",
      "153:\tlearn: 0.3946422\ttotal: 481ms\tremaining: 144ms\n",
      "154:\tlearn: 0.3944375\ttotal: 484ms\tremaining: 140ms\n",
      "155:\tlearn: 0.3943514\ttotal: 487ms\tremaining: 137ms\n",
      "156:\tlearn: 0.3942984\ttotal: 490ms\tremaining: 134ms\n",
      "157:\tlearn: 0.3942816\ttotal: 494ms\tremaining: 131ms\n",
      "158:\tlearn: 0.3939744\ttotal: 497ms\tremaining: 128ms\n",
      "159:\tlearn: 0.3936779\ttotal: 499ms\tremaining: 125ms\n",
      "160:\tlearn: 0.3936135\ttotal: 503ms\tremaining: 122ms\n",
      "161:\tlearn: 0.3934809\ttotal: 506ms\tremaining: 119ms\n",
      "162:\tlearn: 0.3933010\ttotal: 509ms\tremaining: 116ms\n",
      "163:\tlearn: 0.3932844\ttotal: 513ms\tremaining: 113ms\n",
      "164:\tlearn: 0.3932532\ttotal: 516ms\tremaining: 109ms\n",
      "165:\tlearn: 0.3930608\ttotal: 519ms\tremaining: 106ms\n",
      "166:\tlearn: 0.3929903\ttotal: 523ms\tremaining: 103ms\n",
      "167:\tlearn: 0.3929520\ttotal: 525ms\tremaining: 100ms\n",
      "168:\tlearn: 0.3929142\ttotal: 529ms\tremaining: 97ms\n",
      "169:\tlearn: 0.3928046\ttotal: 532ms\tremaining: 93.9ms\n",
      "170:\tlearn: 0.3927928\ttotal: 535ms\tremaining: 90.8ms\n",
      "171:\tlearn: 0.3927742\ttotal: 539ms\tremaining: 87.7ms\n",
      "172:\tlearn: 0.3925842\ttotal: 542ms\tremaining: 84.5ms\n",
      "173:\tlearn: 0.3925062\ttotal: 545ms\tremaining: 81.4ms\n",
      "174:\tlearn: 0.3924419\ttotal: 548ms\tremaining: 78.3ms\n",
      "175:\tlearn: 0.3924184\ttotal: 552ms\tremaining: 75.2ms\n",
      "176:\tlearn: 0.3922626\ttotal: 555ms\tremaining: 72.1ms\n",
      "177:\tlearn: 0.3921076\ttotal: 560ms\tremaining: 69.2ms\n",
      "178:\tlearn: 0.3920916\ttotal: 565ms\tremaining: 66.3ms\n",
      "179:\tlearn: 0.3920465\ttotal: 570ms\tremaining: 63.4ms\n",
      "180:\tlearn: 0.3920133\ttotal: 575ms\tremaining: 60.3ms\n",
      "181:\tlearn: 0.3918650\ttotal: 578ms\tremaining: 57.2ms\n",
      "182:\tlearn: 0.3918551\ttotal: 582ms\tremaining: 54.1ms\n",
      "183:\tlearn: 0.3918341\ttotal: 587ms\tremaining: 51.1ms\n",
      "184:\tlearn: 0.3918217\ttotal: 593ms\tremaining: 48.1ms\n",
      "185:\tlearn: 0.3916678\ttotal: 597ms\tremaining: 45ms\n",
      "186:\tlearn: 0.3916507\ttotal: 602ms\tremaining: 41.8ms\n",
      "187:\tlearn: 0.3915429\ttotal: 607ms\tremaining: 38.8ms\n",
      "188:\tlearn: 0.3915336\ttotal: 612ms\tremaining: 35.6ms\n",
      "189:\tlearn: 0.3914838\ttotal: 617ms\tremaining: 32.5ms\n",
      "190:\tlearn: 0.3913487\ttotal: 622ms\tremaining: 29.3ms\n",
      "191:\tlearn: 0.3913062\ttotal: 626ms\tremaining: 26.1ms\n",
      "192:\tlearn: 0.3912948\ttotal: 629ms\tremaining: 22.8ms\n",
      "193:\tlearn: 0.3911981\ttotal: 633ms\tremaining: 19.6ms\n",
      "194:\tlearn: 0.3911832\ttotal: 637ms\tremaining: 16.3ms\n",
      "195:\tlearn: 0.3911662\ttotal: 641ms\tremaining: 13.1ms\n",
      "196:\tlearn: 0.3910104\ttotal: 651ms\tremaining: 9.91ms\n",
      "197:\tlearn: 0.3909673\ttotal: 655ms\tremaining: 6.62ms\n",
      "198:\tlearn: 0.3909336\ttotal: 660ms\tremaining: 3.32ms\n",
      "199:\tlearn: 0.3908190\ttotal: 670ms\tremaining: 0us\n"
     ]
    },
    {
     "data": {
      "text/plain": [
       "<catboost.core.CatBoostClassifier at 0x7f5ea297f590>"
      ]
     },
     "execution_count": 33,
     "metadata": {},
     "output_type": "execute_result"
    }
   ],
   "source": [
    "best_model.fit(X_train, y_train, cat_features=cat_cols)"
   ]
  },
  {
   "cell_type": "code",
   "execution_count": 34,
   "id": "b338f4ed",
   "metadata": {
    "execution": {
     "iopub.execute_input": "2021-12-20T13:28:43.225854Z",
     "iopub.status.busy": "2021-12-20T13:28:43.225127Z",
     "iopub.status.idle": "2021-12-20T13:28:43.283577Z",
     "shell.execute_reply": "2021-12-20T13:28:43.282968Z"
    },
    "papermill": {
     "duration": 0.122319,
     "end_time": "2021-12-20T13:28:43.283737",
     "exception": false,
     "start_time": "2021-12-20T13:28:43.161418",
     "status": "completed"
    },
    "tags": []
   },
   "outputs": [],
   "source": [
    "X_test = pd.read_csv('../input/advanced-dls-spring-2021/test.csv')\n",
    "X_test['TotalSpent'] = pd.to_numeric(X_test['TotalSpent'], errors='coerce')\n",
    "submission = pd.read_csv('../input/advanced-dls-spring-2021/submission.csv')\n",
    "submission['Churn'] = model_with_grid.predict_proba(X_test)[:, 1]\n",
    "submission.to_csv('./my_submission.csv', index=False)"
   ]
  }
 ],
 "metadata": {
  "kernelspec": {
   "display_name": "Python 3",
   "language": "python",
   "name": "python3"
  },
  "language_info": {
   "codemirror_mode": {
    "name": "ipython",
    "version": 3
   },
   "file_extension": ".py",
   "mimetype": "text/x-python",
   "name": "python",
   "nbconvert_exporter": "python",
   "pygments_lexer": "ipython3",
   "version": "3.7.12"
  },
  "papermill": {
   "default_parameters": {},
   "duration": 340.530168,
   "end_time": "2021-12-20T13:28:44.460889",
   "environment_variables": {},
   "exception": null,
   "input_path": "__notebook__.ipynb",
   "output_path": "__notebook__.ipynb",
   "parameters": {},
   "start_time": "2021-12-20T13:23:03.930721",
   "version": "2.3.3"
  }
 },
 "nbformat": 4,
 "nbformat_minor": 5
}
